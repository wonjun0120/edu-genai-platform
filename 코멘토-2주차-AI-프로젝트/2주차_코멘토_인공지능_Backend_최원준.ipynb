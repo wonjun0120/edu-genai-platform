{
  "cells": [
    {
      "cell_type": "markdown",
      "metadata": {
        "id": "6EUnxETg_AkI"
      },
      "source": [
        "# RAG 파이프라인 구축하기\n",
        "\n",
        "## 1. 사전작업(Pre-processing) - 1~4 단계\n",
        "\n",
        "사전 작업 단계에서는 데이터 소스를 Vector DB (저장소) 에 문서를 로드-분할-임베딩-저장 하는 4단계를 진행합니다.\n",
        "\n",
        "- 1단계 문서로드(Document Load): 문서 내용을 불러옵니다.\n",
        "- 2단계 분할(Text Split): 문서를 특정 기준(Chunk) 으로 분할합니다.\n",
        "- 3단계 임베딩(Embedding): 분할된(Chunk) 를 임베딩하여 저장합니다.\n",
        "- 4단계 벡터DB 저장: 임베딩된 Chunk 를 DB에 저장합니다.\n",
        "\n",
        "## 2. RAG 수행(RunTime) - 5~8 단계\n",
        "\n",
        "- 5단계 검색기(Retriever): 쿼리(Query) 를 바탕으로 DB에서 검색하여 결과를 가져오기 위하여 리트리버를 정의합니다. 리트리버는 검색 알고리즘이며(Dense, Sparse) 리트리버로 나뉘게 됩니다. Dense: 유사도 기반 검색, Sparse: 키워드 기반 검색\n",
        "- 6단계 프롬프트: RAG 를 수행하기 위한 프롬프트를 생성합니다. 프롬프트의 context 에는 문서에서 검색된 내용이 입력됩니다. 프롬프트 엔지니어링을 통하여 답변의 형식을 지정할 수 있습니다.\n",
        "- 7단계 LLM: 모델을 정의합니다.(GPT-3.5, GPT-4, Claude, etc..)\n",
        "- 8단계 Chain: 프롬프트 - LLM - 출력 에 이르는 체인을 생성합니다.\n",
        "\n",
        "## * 실습에 활용할 문서\n",
        "\n",
        "각자 1차 과제때 구상한 서비스를 구현하기 위해 필요한 문서를 구비하여 업로드 해주세요.\n",
        "\n",
        "예시문서\n",
        "- 문서명: <간이투자설명서> 삼성KODEX 코스피증권상장지수투자신탁[주식](펀드 코드: B6290)\n",
        "- 링크: https://www.samsungfund.com/etf/product/library/pdf.do\n",
        "- 파일명: `2ETF52-Aa`\n",
        "\n",
        "_실습을 위해 다운로드 받은 파일을 구글 Colab의 `/content` 폴더로 복사해 주시기 바랍니다_\n",
        "\n",
        "## * 뼈대 코드 활용\n",
        "\n",
        "아래는 기본적인 RAG 구조 이해를 위한 뼈대코드(skeleton code) 입니다. 각 단계별 모듈의 내용을 앞으로 상황에 맞게 변경하면서 문서에 적합한 구조를 찾아갈 수 있습니다.(각 단계별로 다양한 옵션을 설정하거나 새로운 기법을 적용할 수 있습니다.)"
      ]
    },
    {
      "cell_type": "code",
      "execution_count": 1,
      "metadata": {
        "colab": {
          "base_uri": "https://localhost:8080/"
        },
        "id": "D4GoNoAFqqqW",
        "outputId": "d4a75728-48e1-4891-acf0-80dc2b53eda8"
      },
      "outputs": [
        {
          "name": "stdout",
          "output_type": "stream",
          "text": [
            "Requirement already satisfied: python-dotenv in /Users/choiwonjun/Project/edu-genai-platform/.venv/lib/python3.13/site-packages (1.1.1)\n",
            "Requirement already satisfied: faiss-cpu in /Users/choiwonjun/Project/edu-genai-platform/.venv/lib/python3.13/site-packages (1.11.0)\n",
            "Requirement already satisfied: numpy<3.0,>=1.25.0 in /Users/choiwonjun/Project/edu-genai-platform/.venv/lib/python3.13/site-packages (from faiss-cpu) (2.2.6)\n",
            "Requirement already satisfied: packaging in /Users/choiwonjun/Project/edu-genai-platform/.venv/lib/python3.13/site-packages (from faiss-cpu) (24.2)\n",
            "Requirement already satisfied: pymupdf in /Users/choiwonjun/Project/edu-genai-platform/.venv/lib/python3.13/site-packages (1.26.3)\n",
            "Requirement already satisfied: langchain_community in /Users/choiwonjun/Project/edu-genai-platform/.venv/lib/python3.13/site-packages (0.3.27)\n",
            "Requirement already satisfied: langchain-core<1.0.0,>=0.3.66 in /Users/choiwonjun/Project/edu-genai-platform/.venv/lib/python3.13/site-packages (from langchain_community) (0.3.68)\n",
            "Requirement already satisfied: langchain<1.0.0,>=0.3.26 in /Users/choiwonjun/Project/edu-genai-platform/.venv/lib/python3.13/site-packages (from langchain_community) (0.3.26)\n",
            "Requirement already satisfied: SQLAlchemy<3,>=1.4 in /Users/choiwonjun/Project/edu-genai-platform/.venv/lib/python3.13/site-packages (from langchain_community) (2.0.41)\n",
            "Requirement already satisfied: requests<3,>=2 in /Users/choiwonjun/Project/edu-genai-platform/.venv/lib/python3.13/site-packages (from langchain_community) (2.32.4)\n",
            "Requirement already satisfied: PyYAML>=5.3 in /Users/choiwonjun/Project/edu-genai-platform/.venv/lib/python3.13/site-packages (from langchain_community) (6.0.2)\n",
            "Requirement already satisfied: aiohttp<4.0.0,>=3.8.3 in /Users/choiwonjun/Project/edu-genai-platform/.venv/lib/python3.13/site-packages (from langchain_community) (3.12.13)\n",
            "Requirement already satisfied: tenacity!=8.4.0,<10,>=8.1.0 in /Users/choiwonjun/Project/edu-genai-platform/.venv/lib/python3.13/site-packages (from langchain_community) (9.1.2)\n",
            "Requirement already satisfied: dataclasses-json<0.7,>=0.5.7 in /Users/choiwonjun/Project/edu-genai-platform/.venv/lib/python3.13/site-packages (from langchain_community) (0.6.7)\n",
            "Requirement already satisfied: pydantic-settings<3.0.0,>=2.4.0 in /Users/choiwonjun/Project/edu-genai-platform/.venv/lib/python3.13/site-packages (from langchain_community) (2.10.1)\n",
            "Requirement already satisfied: langsmith>=0.1.125 in /Users/choiwonjun/Project/edu-genai-platform/.venv/lib/python3.13/site-packages (from langchain_community) (0.4.4)\n",
            "Requirement already satisfied: httpx-sse<1.0.0,>=0.4.0 in /Users/choiwonjun/Project/edu-genai-platform/.venv/lib/python3.13/site-packages (from langchain_community) (0.4.1)\n",
            "Requirement already satisfied: numpy>=2.1.0 in /Users/choiwonjun/Project/edu-genai-platform/.venv/lib/python3.13/site-packages (from langchain_community) (2.2.6)\n",
            "Requirement already satisfied: aiohappyeyeballs>=2.5.0 in /Users/choiwonjun/Project/edu-genai-platform/.venv/lib/python3.13/site-packages (from aiohttp<4.0.0,>=3.8.3->langchain_community) (2.6.1)\n",
            "Requirement already satisfied: aiosignal>=1.1.2 in /Users/choiwonjun/Project/edu-genai-platform/.venv/lib/python3.13/site-packages (from aiohttp<4.0.0,>=3.8.3->langchain_community) (1.4.0)\n",
            "Requirement already satisfied: attrs>=17.3.0 in /Users/choiwonjun/Project/edu-genai-platform/.venv/lib/python3.13/site-packages (from aiohttp<4.0.0,>=3.8.3->langchain_community) (25.3.0)\n",
            "Requirement already satisfied: frozenlist>=1.1.1 in /Users/choiwonjun/Project/edu-genai-platform/.venv/lib/python3.13/site-packages (from aiohttp<4.0.0,>=3.8.3->langchain_community) (1.7.0)\n",
            "Requirement already satisfied: multidict<7.0,>=4.5 in /Users/choiwonjun/Project/edu-genai-platform/.venv/lib/python3.13/site-packages (from aiohttp<4.0.0,>=3.8.3->langchain_community) (6.6.3)\n",
            "Requirement already satisfied: propcache>=0.2.0 in /Users/choiwonjun/Project/edu-genai-platform/.venv/lib/python3.13/site-packages (from aiohttp<4.0.0,>=3.8.3->langchain_community) (0.3.2)\n",
            "Requirement already satisfied: yarl<2.0,>=1.17.0 in /Users/choiwonjun/Project/edu-genai-platform/.venv/lib/python3.13/site-packages (from aiohttp<4.0.0,>=3.8.3->langchain_community) (1.20.1)\n",
            "Requirement already satisfied: marshmallow<4.0.0,>=3.18.0 in /Users/choiwonjun/Project/edu-genai-platform/.venv/lib/python3.13/site-packages (from dataclasses-json<0.7,>=0.5.7->langchain_community) (3.26.1)\n",
            "Requirement already satisfied: typing-inspect<1,>=0.4.0 in /Users/choiwonjun/Project/edu-genai-platform/.venv/lib/python3.13/site-packages (from dataclasses-json<0.7,>=0.5.7->langchain_community) (0.9.0)\n",
            "Requirement already satisfied: langchain-text-splitters<1.0.0,>=0.3.8 in /Users/choiwonjun/Project/edu-genai-platform/.venv/lib/python3.13/site-packages (from langchain<1.0.0,>=0.3.26->langchain_community) (0.3.8)\n",
            "Requirement already satisfied: pydantic<3.0.0,>=2.7.4 in /Users/choiwonjun/Project/edu-genai-platform/.venv/lib/python3.13/site-packages (from langchain<1.0.0,>=0.3.26->langchain_community) (2.11.7)\n",
            "Requirement already satisfied: jsonpatch<2.0,>=1.33 in /Users/choiwonjun/Project/edu-genai-platform/.venv/lib/python3.13/site-packages (from langchain-core<1.0.0,>=0.3.66->langchain_community) (1.33)\n",
            "Requirement already satisfied: packaging<25,>=23.2 in /Users/choiwonjun/Project/edu-genai-platform/.venv/lib/python3.13/site-packages (from langchain-core<1.0.0,>=0.3.66->langchain_community) (24.2)\n",
            "Requirement already satisfied: typing-extensions>=4.7 in /Users/choiwonjun/Project/edu-genai-platform/.venv/lib/python3.13/site-packages (from langchain-core<1.0.0,>=0.3.66->langchain_community) (4.14.1)\n",
            "Requirement already satisfied: jsonpointer>=1.9 in /Users/choiwonjun/Project/edu-genai-platform/.venv/lib/python3.13/site-packages (from jsonpatch<2.0,>=1.33->langchain-core<1.0.0,>=0.3.66->langchain_community) (3.0.0)\n",
            "Requirement already satisfied: annotated-types>=0.6.0 in /Users/choiwonjun/Project/edu-genai-platform/.venv/lib/python3.13/site-packages (from pydantic<3.0.0,>=2.7.4->langchain<1.0.0,>=0.3.26->langchain_community) (0.7.0)\n",
            "Requirement already satisfied: pydantic-core==2.33.2 in /Users/choiwonjun/Project/edu-genai-platform/.venv/lib/python3.13/site-packages (from pydantic<3.0.0,>=2.7.4->langchain<1.0.0,>=0.3.26->langchain_community) (2.33.2)\n",
            "Requirement already satisfied: typing-inspection>=0.4.0 in /Users/choiwonjun/Project/edu-genai-platform/.venv/lib/python3.13/site-packages (from pydantic<3.0.0,>=2.7.4->langchain<1.0.0,>=0.3.26->langchain_community) (0.4.1)\n",
            "Requirement already satisfied: python-dotenv>=0.21.0 in /Users/choiwonjun/Project/edu-genai-platform/.venv/lib/python3.13/site-packages (from pydantic-settings<3.0.0,>=2.4.0->langchain_community) (1.1.1)\n",
            "Requirement already satisfied: charset_normalizer<4,>=2 in /Users/choiwonjun/Project/edu-genai-platform/.venv/lib/python3.13/site-packages (from requests<3,>=2->langchain_community) (3.4.2)\n",
            "Requirement already satisfied: idna<4,>=2.5 in /Users/choiwonjun/Project/edu-genai-platform/.venv/lib/python3.13/site-packages (from requests<3,>=2->langchain_community) (3.10)\n",
            "Requirement already satisfied: urllib3<3,>=1.21.1 in /Users/choiwonjun/Project/edu-genai-platform/.venv/lib/python3.13/site-packages (from requests<3,>=2->langchain_community) (2.5.0)\n",
            "Requirement already satisfied: certifi>=2017.4.17 in /Users/choiwonjun/Project/edu-genai-platform/.venv/lib/python3.13/site-packages (from requests<3,>=2->langchain_community) (2025.7.9)\n",
            "Requirement already satisfied: mypy-extensions>=0.3.0 in /Users/choiwonjun/Project/edu-genai-platform/.venv/lib/python3.13/site-packages (from typing-inspect<1,>=0.4.0->dataclasses-json<0.7,>=0.5.7->langchain_community) (1.1.0)\n",
            "Requirement already satisfied: httpx<1,>=0.23.0 in /Users/choiwonjun/Project/edu-genai-platform/.venv/lib/python3.13/site-packages (from langsmith>=0.1.125->langchain_community) (0.28.1)\n",
            "Requirement already satisfied: orjson<4.0.0,>=3.9.14 in /Users/choiwonjun/Project/edu-genai-platform/.venv/lib/python3.13/site-packages (from langsmith>=0.1.125->langchain_community) (3.10.18)\n",
            "Requirement already satisfied: requests-toolbelt<2.0.0,>=1.0.0 in /Users/choiwonjun/Project/edu-genai-platform/.venv/lib/python3.13/site-packages (from langsmith>=0.1.125->langchain_community) (1.0.0)\n",
            "Requirement already satisfied: zstandard<0.24.0,>=0.23.0 in /Users/choiwonjun/Project/edu-genai-platform/.venv/lib/python3.13/site-packages (from langsmith>=0.1.125->langchain_community) (0.23.0)\n",
            "Requirement already satisfied: anyio in /Users/choiwonjun/Project/edu-genai-platform/.venv/lib/python3.13/site-packages (from httpx<1,>=0.23.0->langsmith>=0.1.125->langchain_community) (4.9.0)\n",
            "Requirement already satisfied: httpcore==1.* in /Users/choiwonjun/Project/edu-genai-platform/.venv/lib/python3.13/site-packages (from httpx<1,>=0.23.0->langsmith>=0.1.125->langchain_community) (1.0.9)\n",
            "Requirement already satisfied: h11>=0.16 in /Users/choiwonjun/Project/edu-genai-platform/.venv/lib/python3.13/site-packages (from httpcore==1.*->httpx<1,>=0.23.0->langsmith>=0.1.125->langchain_community) (0.16.0)\n",
            "Requirement already satisfied: sniffio>=1.1 in /Users/choiwonjun/Project/edu-genai-platform/.venv/lib/python3.13/site-packages (from anyio->httpx<1,>=0.23.0->langsmith>=0.1.125->langchain_community) (1.3.1)\n",
            "Requirement already satisfied: langchain_openai in /Users/choiwonjun/Project/edu-genai-platform/.venv/lib/python3.13/site-packages (0.3.27)\n",
            "Requirement already satisfied: langchain-core<1.0.0,>=0.3.66 in /Users/choiwonjun/Project/edu-genai-platform/.venv/lib/python3.13/site-packages (from langchain_openai) (0.3.68)\n",
            "Requirement already satisfied: openai<2.0.0,>=1.86.0 in /Users/choiwonjun/Project/edu-genai-platform/.venv/lib/python3.13/site-packages (from langchain_openai) (1.93.2)\n",
            "Requirement already satisfied: tiktoken<1,>=0.7 in /Users/choiwonjun/Project/edu-genai-platform/.venv/lib/python3.13/site-packages (from langchain_openai) (0.9.0)\n",
            "Requirement already satisfied: langsmith>=0.3.45 in /Users/choiwonjun/Project/edu-genai-platform/.venv/lib/python3.13/site-packages (from langchain-core<1.0.0,>=0.3.66->langchain_openai) (0.4.4)\n",
            "Requirement already satisfied: tenacity!=8.4.0,<10.0.0,>=8.1.0 in /Users/choiwonjun/Project/edu-genai-platform/.venv/lib/python3.13/site-packages (from langchain-core<1.0.0,>=0.3.66->langchain_openai) (9.1.2)\n",
            "Requirement already satisfied: jsonpatch<2.0,>=1.33 in /Users/choiwonjun/Project/edu-genai-platform/.venv/lib/python3.13/site-packages (from langchain-core<1.0.0,>=0.3.66->langchain_openai) (1.33)\n",
            "Requirement already satisfied: PyYAML>=5.3 in /Users/choiwonjun/Project/edu-genai-platform/.venv/lib/python3.13/site-packages (from langchain-core<1.0.0,>=0.3.66->langchain_openai) (6.0.2)\n",
            "Requirement already satisfied: packaging<25,>=23.2 in /Users/choiwonjun/Project/edu-genai-platform/.venv/lib/python3.13/site-packages (from langchain-core<1.0.0,>=0.3.66->langchain_openai) (24.2)\n",
            "Requirement already satisfied: typing-extensions>=4.7 in /Users/choiwonjun/Project/edu-genai-platform/.venv/lib/python3.13/site-packages (from langchain-core<1.0.0,>=0.3.66->langchain_openai) (4.14.1)\n",
            "Requirement already satisfied: pydantic>=2.7.4 in /Users/choiwonjun/Project/edu-genai-platform/.venv/lib/python3.13/site-packages (from langchain-core<1.0.0,>=0.3.66->langchain_openai) (2.11.7)\n",
            "Requirement already satisfied: jsonpointer>=1.9 in /Users/choiwonjun/Project/edu-genai-platform/.venv/lib/python3.13/site-packages (from jsonpatch<2.0,>=1.33->langchain-core<1.0.0,>=0.3.66->langchain_openai) (3.0.0)\n",
            "Requirement already satisfied: anyio<5,>=3.5.0 in /Users/choiwonjun/Project/edu-genai-platform/.venv/lib/python3.13/site-packages (from openai<2.0.0,>=1.86.0->langchain_openai) (4.9.0)\n",
            "Requirement already satisfied: distro<2,>=1.7.0 in /Users/choiwonjun/Project/edu-genai-platform/.venv/lib/python3.13/site-packages (from openai<2.0.0,>=1.86.0->langchain_openai) (1.9.0)\n",
            "Requirement already satisfied: httpx<1,>=0.23.0 in /Users/choiwonjun/Project/edu-genai-platform/.venv/lib/python3.13/site-packages (from openai<2.0.0,>=1.86.0->langchain_openai) (0.28.1)\n",
            "Requirement already satisfied: jiter<1,>=0.4.0 in /Users/choiwonjun/Project/edu-genai-platform/.venv/lib/python3.13/site-packages (from openai<2.0.0,>=1.86.0->langchain_openai) (0.10.0)\n",
            "Requirement already satisfied: sniffio in /Users/choiwonjun/Project/edu-genai-platform/.venv/lib/python3.13/site-packages (from openai<2.0.0,>=1.86.0->langchain_openai) (1.3.1)\n",
            "Requirement already satisfied: tqdm>4 in /Users/choiwonjun/Project/edu-genai-platform/.venv/lib/python3.13/site-packages (from openai<2.0.0,>=1.86.0->langchain_openai) (4.67.1)\n",
            "Requirement already satisfied: idna>=2.8 in /Users/choiwonjun/Project/edu-genai-platform/.venv/lib/python3.13/site-packages (from anyio<5,>=3.5.0->openai<2.0.0,>=1.86.0->langchain_openai) (3.10)\n",
            "Requirement already satisfied: certifi in /Users/choiwonjun/Project/edu-genai-platform/.venv/lib/python3.13/site-packages (from httpx<1,>=0.23.0->openai<2.0.0,>=1.86.0->langchain_openai) (2025.7.9)\n",
            "Requirement already satisfied: httpcore==1.* in /Users/choiwonjun/Project/edu-genai-platform/.venv/lib/python3.13/site-packages (from httpx<1,>=0.23.0->openai<2.0.0,>=1.86.0->langchain_openai) (1.0.9)\n",
            "Requirement already satisfied: h11>=0.16 in /Users/choiwonjun/Project/edu-genai-platform/.venv/lib/python3.13/site-packages (from httpcore==1.*->httpx<1,>=0.23.0->openai<2.0.0,>=1.86.0->langchain_openai) (0.16.0)\n",
            "Requirement already satisfied: annotated-types>=0.6.0 in /Users/choiwonjun/Project/edu-genai-platform/.venv/lib/python3.13/site-packages (from pydantic>=2.7.4->langchain-core<1.0.0,>=0.3.66->langchain_openai) (0.7.0)\n",
            "Requirement already satisfied: pydantic-core==2.33.2 in /Users/choiwonjun/Project/edu-genai-platform/.venv/lib/python3.13/site-packages (from pydantic>=2.7.4->langchain-core<1.0.0,>=0.3.66->langchain_openai) (2.33.2)\n",
            "Requirement already satisfied: typing-inspection>=0.4.0 in /Users/choiwonjun/Project/edu-genai-platform/.venv/lib/python3.13/site-packages (from pydantic>=2.7.4->langchain-core<1.0.0,>=0.3.66->langchain_openai) (0.4.1)\n",
            "Requirement already satisfied: regex>=2022.1.18 in /Users/choiwonjun/Project/edu-genai-platform/.venv/lib/python3.13/site-packages (from tiktoken<1,>=0.7->langchain_openai) (2024.11.6)\n",
            "Requirement already satisfied: requests>=2.26.0 in /Users/choiwonjun/Project/edu-genai-platform/.venv/lib/python3.13/site-packages (from tiktoken<1,>=0.7->langchain_openai) (2.32.4)\n",
            "Requirement already satisfied: orjson<4.0.0,>=3.9.14 in /Users/choiwonjun/Project/edu-genai-platform/.venv/lib/python3.13/site-packages (from langsmith>=0.3.45->langchain-core<1.0.0,>=0.3.66->langchain_openai) (3.10.18)\n",
            "Requirement already satisfied: requests-toolbelt<2.0.0,>=1.0.0 in /Users/choiwonjun/Project/edu-genai-platform/.venv/lib/python3.13/site-packages (from langsmith>=0.3.45->langchain-core<1.0.0,>=0.3.66->langchain_openai) (1.0.0)\n",
            "Requirement already satisfied: zstandard<0.24.0,>=0.23.0 in /Users/choiwonjun/Project/edu-genai-platform/.venv/lib/python3.13/site-packages (from langsmith>=0.3.45->langchain-core<1.0.0,>=0.3.66->langchain_openai) (0.23.0)\n",
            "Requirement already satisfied: charset_normalizer<4,>=2 in /Users/choiwonjun/Project/edu-genai-platform/.venv/lib/python3.13/site-packages (from requests>=2.26.0->tiktoken<1,>=0.7->langchain_openai) (3.4.2)\n",
            "Requirement already satisfied: urllib3<3,>=1.21.1 in /Users/choiwonjun/Project/edu-genai-platform/.venv/lib/python3.13/site-packages (from requests>=2.26.0->tiktoken<1,>=0.7->langchain_openai) (2.5.0)\n"
          ]
        }
      ],
      "source": [
        "## 환경설정 : 필요한 라이브러리들을 설정합니다.\n",
        "\n",
        "!pip install python-dotenv\n",
        "!pip install faiss-cpu\n",
        "!pip install pymupdf\n",
        "!pip install langchain_community\n",
        "!pip install langchain_openai\n"
      ]
    },
    {
      "cell_type": "code",
      "execution_count": 2,
      "metadata": {
        "id": "6flm7jpT_67p"
      },
      "outputs": [],
      "source": [
        "# 아래를 참고하여 생성한 API 키를 환경변수로 관리하기 위한 .txt 파일을 만들어 보세요\n",
        "# txt 파일에 OPENAI_API_KEY=your-openai-api-key-here(발급받은 api key)를 붙혀넣기 하고.'env'라는 이름으로 저장한 뒤, /content에 파일을 업로드 해주세요\n",
        "\n",
        "from dotenv import load_dotenv\n",
        "import openai\n",
        "import os\n",
        "\n",
        "# API 키 정보 로드\n",
        "load_dotenv()\n",
        "\n",
        "# .env파일 생성 및 저장\n",
        "api_key = os.getenv(\"OPENAI_API_KEY\")\n",
        "openai.api_key = api_key"
      ]
    },
    {
      "cell_type": "code",
      "execution_count": 3,
      "metadata": {
        "id": "xPFnYR3urx1Z"
      },
      "outputs": [],
      "source": [
        "## RAG 기본 파이프라인(1~8단계)\n",
        "\n",
        "#langchain 라이브러리에서 필요한 기능들을 불러와 줍니다.\n",
        "from langchain_text_splitters import RecursiveCharacterTextSplitter\n",
        "from langchain_community.document_loaders import PyMuPDFLoader\n",
        "from langchain_community.vectorstores import FAISS\n",
        "from langchain_core.output_parsers import StrOutputParser\n",
        "from langchain_core.runnables import RunnablePassthrough\n",
        "from langchain_core.prompts import PromptTemplate\n",
        "from langchain_openai import ChatOpenAI, OpenAIEmbeddings"
      ]
    },
    {
      "cell_type": "code",
      "execution_count": 5,
      "metadata": {
        "colab": {
          "base_uri": "https://localhost:8080/"
        },
        "id": "o2LgjJm5oBUx",
        "outputId": "871b8371-a618-4ca3-8a1b-1634fc337aa6"
      },
      "outputs": [
        {
          "name": "stdout",
          "output_type": "stream",
          "text": [
            "문서의 페이지수: 8\n",
            "파이썬 기반의 AI 프로그래밍 01-1\n",
            "- 2 -\n",
            "다. 예측 분석(Predictive Analytics)\n",
            "라. 통계적 머신러닝(Statistical Learning)\n",
            "- 데이터에서 지식을 추출하는 작업\n",
            "3) 머신러닝으로 풀 수 있는 문제\n",
            "- 이미 알려진 사례를 바탕으로 일반화된 모델을 만들어 의사 결정 프로세스 자동\n",
            "화 → 지도 학습(Supervised Learning)\n"
          ]
        },
        {
          "data": {
            "text/plain": [
              "{'id': None,\n",
              " 'metadata': {'producer': 'Hancom PDF 1.3.0.443',\n",
              "  'creator': 'Hancom PDF 1.3.0.443',\n",
              "  'creationdate': '2020-11-05T23:33:03+09:00',\n",
              "  'source': './content/011.pdf',\n",
              "  'file_path': './content/011.pdf',\n",
              "  'total_pages': 8,\n",
              "  'format': 'PDF 1.4',\n",
              "  'title': '제1항표준어는 교양 있는 사람들이 두루 쓰는 현대 서울말로 정함을 원칙으로 한다',\n",
              "  'author': 'user',\n",
              "  'subject': '',\n",
              "  'keywords': '',\n",
              "  'moddate': '2020-11-05T23:33:03+09:00',\n",
              "  'trapped': '',\n",
              "  'modDate': \"D:20201105233303+09'00'\",\n",
              "  'creationDate': \"D:20201105233303+09'00'\",\n",
              "  'page': 1},\n",
              " 'page_content': '파이썬 기반의 AI 프로그래밍 01-1\\n- 2 -\\n다. 예측 분석(Predictive Analytics)\\n라. 통계적 머신러닝(Statistical Learning)\\n- 데이터에서 지식을 추출하는 작업\\n3) 머신러닝으로 풀 수 있는 문제\\n- 이미 알려진 사례를 바탕으로 일반화된 모델을 만들어 의사 결정 프로세스 자동\\n화 → 지도 학습(Supervised Learning)',\n",
              " 'type': 'Document'}"
            ]
          },
          "execution_count": 5,
          "metadata": {},
          "output_type": "execute_result"
        }
      ],
      "source": [
        "# 단계 1: 문서 로드(Load Documents)\n",
        "# 구현하고자 하는 서비스에 맞게, 직접 구비한 문서를 업로드 해주세요. .꼭 .pdf파일이 아니어도 좋습니다.\n",
        "loader = PyMuPDFLoader(\"./content/011.pdf\")\n",
        "docs = loader.load()\n",
        "print(f\"문서의 페이지수: {len(docs)}\")\n",
        "\n",
        "\"\"\"페이지의 내용을 출력합니다.\"\"\"\n",
        "\n",
        "print(docs[1].page_content)\n",
        "\n",
        "\"\"\"`metadata` 를 확인합니다.\"\"\"\n",
        "\n",
        "docs[1].__dict__"
      ]
    },
    {
      "cell_type": "code",
      "execution_count": 6,
      "metadata": {
        "colab": {
          "base_uri": "https://localhost:8080/"
        },
        "id": "SYHF1LJUPViX",
        "outputId": "3208323e-4967-41b5-9c2e-58e2b4adfc86"
      },
      "outputs": [
        {
          "name": "stdout",
          "output_type": "stream",
          "text": [
            "분할된 청크의수: 9\n"
          ]
        }
      ],
      "source": [
        "# 단계 2: 문서 분할(Split Documents)\n",
        "text_splitter = RecursiveCharacterTextSplitter(chunk_size=500, chunk_overlap=50)\n",
        "split_documents = text_splitter.split_documents(docs)\n",
        "print(f\"분할된 청크의수: {len(split_documents)}\")"
      ]
    },
    {
      "cell_type": "code",
      "execution_count": 7,
      "metadata": {
        "id": "jucAt8IxQHyE"
      },
      "outputs": [],
      "source": [
        "# 단계 3: 임베딩(Embedding) 생성\n",
        "embeddings = OpenAIEmbeddings()"
      ]
    },
    {
      "cell_type": "code",
      "execution_count": 8,
      "metadata": {
        "colab": {
          "base_uri": "https://localhost:8080/"
        },
        "id": "zWTcB3r_pe3v",
        "outputId": "06ebc31f-dbcc-4603-d516-2d36b26616ab"
      },
      "outputs": [
        {
          "name": "stdout",
          "output_type": "stream",
          "text": [
            "파이썬 기반의 AI 프로그래밍 01-1\n",
            "- 4 -\n",
            "파이썬 기반의 AI 프로그래밍 01-1\n",
            "- 2 -\n",
            "다. 예측 분석(Predictive Analytics)\n",
            "라. 통계적 머신러닝(Statistical Learning)\n",
            "- 데이터에서 지식을 추출하는 작업\n",
            "3) 머신러닝으로 풀 수 있는 문제\n",
            "- 이미 알려진 사례를 바탕으로 일반화된 모델을 만들어 의사 결정 프로세스 자동\n",
            "화 → 지도 학습(Supervised Learning)\n",
            "파이썬 기반의 AI 프로그래밍 01-1\n",
            "- 3 -\n",
            "- 입력은 주어지지만 출력은 제공되지 않음 → 비지도 학습(Unsupervised \n",
            "Learning)\n",
            "파이썬 기반의 AI 프로그래밍 01-1\n",
            "- 5 -\n",
            "- 컴퓨터가 인식할 수 있는 형태의 입력 데이터 준비 필수\n",
            "- sample, data point: 하나의 개체, 행\n",
            "- feature: 샘플의 속성, 열\n",
            "4) 문제와 데이터 이해하기\n"
          ]
        }
      ],
      "source": [
        "# 단계 4: DB 생성(Create DB) 및 저장\n",
        "import faiss\n",
        "\n",
        "# 벡터스토어를 생성합니다.\n",
        "vectorstore = FAISS.from_documents(documents=split_documents, embedding=embeddings)\n",
        "\n",
        "for doc in vectorstore.similarity_search(\"투자\"):\n",
        "    print(doc.page_content)"
      ]
    },
    {
      "cell_type": "code",
      "execution_count": 10,
      "metadata": {
        "colab": {
          "base_uri": "https://localhost:8080/"
        },
        "id": "TKKp7Hadpivw",
        "outputId": "6e8d1efd-4501-4c24-c826-99ae951cc510"
      },
      "outputs": [
        {
          "data": {
            "text/plain": [
              "[Document(id='deebeb70-d3af-4ad6-a0b3-a12c8191d75a', metadata={'producer': 'Hancom PDF 1.3.0.443', 'creator': 'Hancom PDF 1.3.0.443', 'creationdate': '2020-11-05T23:33:03+09:00', 'source': './content/011.pdf', 'file_path': './content/011.pdf', 'total_pages': 8, 'format': 'PDF 1.4', 'title': '제1항표준어는 교양 있는 사람들이 두루 쓰는 현대 서울말로 정함을 원칙으로 한다', 'author': 'user', 'subject': '', 'keywords': '', 'moddate': '2020-11-05T23:33:03+09:00', 'trapped': '', 'modDate': \"D:20201105233303+09'00'\", 'creationDate': \"D:20201105233303+09'00'\", 'page': 0}, page_content='파이썬 기반의 AI 프로그래밍 01-1\\n- 1 -\\n1. 머신러닝 개요\\n1강. 머신러닝과 필수 라이브러리 \\n  \\n학습내용  \\n - 인공지능과 머신러닝\\n - 머신러닝 필수 라이브러리\\n  \\n학습목표  \\n- 인공지능과 머신러닝의 개념을 설명할 수 있다.\\n- 머신러닝의 필수 라이브러리를 열거할 수 있다.\\n1. 인공지능과 머신러닝\\n1) 인공지능\\n가. 대량의 데이터에서 산출되는 어떤 특징적인 기능\\n나. 데이터 바탕으로 특수한 패턴 발견 -> 취할 수 있는 최적의 행동 결정\\n2) 머신러닝\\n가. 데이터에서 지식을 추출하는 작업\\n나. 통계학, 인공지능 및 컴퓨터 과학의 연구 분야'),\n",
              " Document(id='a5d4ef58-3722-4250-af68-93f21c99692d', metadata={'producer': 'Hancom PDF 1.3.0.443', 'creator': 'Hancom PDF 1.3.0.443', 'creationdate': '2020-11-05T23:33:03+09:00', 'source': './content/011.pdf', 'file_path': './content/011.pdf', 'total_pages': 8, 'format': 'PDF 1.4', 'title': '제1항표준어는 교양 있는 사람들이 두루 쓰는 현대 서울말로 정함을 원칙으로 한다', 'author': 'user', 'subject': '', 'keywords': '', 'moddate': '2020-11-05T23:33:03+09:00', 'trapped': '', 'modDate': \"D:20201105233303+09'00'\", 'creationDate': \"D:20201105233303+09'00'\", 'page': 1}, page_content='파이썬 기반의 AI 프로그래밍 01-1\\n- 2 -\\n다. 예측 분석(Predictive Analytics)\\n라. 통계적 머신러닝(Statistical Learning)\\n- 데이터에서 지식을 추출하는 작업\\n3) 머신러닝으로 풀 수 있는 문제\\n- 이미 알려진 사례를 바탕으로 일반화된 모델을 만들어 의사 결정 프로세스 자동\\n화 → 지도 학습(Supervised Learning)'),\n",
              " Document(id='623182e1-16a5-4d7c-8101-b191bc1cd26c', metadata={'producer': 'Hancom PDF 1.3.0.443', 'creator': 'Hancom PDF 1.3.0.443', 'creationdate': '2020-11-05T23:33:03+09:00', 'source': './content/011.pdf', 'file_path': './content/011.pdf', 'total_pages': 8, 'format': 'PDF 1.4', 'title': '제1항표준어는 교양 있는 사람들이 두루 쓰는 현대 서울말로 정함을 원칙으로 한다', 'author': 'user', 'subject': '', 'keywords': '', 'moddate': '2020-11-05T23:33:03+09:00', 'trapped': '', 'modDate': \"D:20201105233303+09'00'\", 'creationDate': \"D:20201105233303+09'00'\", 'page': 4}, page_content='파이썬 기반의 AI 프로그래밍 01-1\\n- 5 -\\n- 컴퓨터가 인식할 수 있는 형태의 입력 데이터 준비 필수\\n- sample, data point: 하나의 개체, 행\\n- feature: 샘플의 속성, 열\\n4) 문제와 데이터 이해하기'),\n",
              " Document(id='353713e2-d95a-4d90-a584-9f8df075ec9a', metadata={'producer': 'Hancom PDF 1.3.0.443', 'creator': 'Hancom PDF 1.3.0.443', 'creationdate': '2020-11-05T23:33:03+09:00', 'source': './content/011.pdf', 'file_path': './content/011.pdf', 'total_pages': 8, 'format': 'PDF 1.4', 'title': '제1항표준어는 교양 있는 사람들이 두루 쓰는 현대 서울말로 정함을 원칙으로 한다', 'author': 'user', 'subject': '', 'keywords': '', 'moddate': '2020-11-05T23:33:03+09:00', 'trapped': '', 'modDate': \"D:20201105233303+09'00'\", 'creationDate': \"D:20201105233303+09'00'\", 'page': 7}, page_content='- 머신러닝의 지도학습과 비지도 학습\\n2. 머신러닝 필수 라이브러리 \\n - 파이썬, 싸이킷런, 주피터 노트북, NumPy, SciPy, matplotlib, pandas, \\nmglearn')]"
            ]
          },
          "execution_count": 10,
          "metadata": {},
          "output_type": "execute_result"
        }
      ],
      "source": [
        "# 단계 5: 검색기(Retriever) 생성\n",
        "# 문서에 포함되어 있는 정보를 검색하고 생성합니다.\n",
        "retriever = vectorstore.as_retriever()\n",
        "\n",
        "\"\"\"검색기에 쿼리를 날려 검색된 chunk 결과를 확인합니다.\"\"\"\n",
        "\n",
        "# 검색기에 쿼리를 날려 검색된 chunk 결과를 확인합니다.\n",
        "retriever.invoke(\"핵심 내용은?\")"
      ]
    },
    {
      "cell_type": "code",
      "execution_count": 15,
      "metadata": {
        "id": "zcHSDS-p-0J2"
      },
      "outputs": [],
      "source": [
        "# 단계 6: 프롬프트 입력\n",
        "# 2주차 과제에서 생성한 프롬프트를 여기에 입력해 주세요. 2주차 과제 피드백을 보고 zero-shot, few-shot, 후카츠식 프롬프트, 동적(dynamic) 프롬프팅 등 다양한 프롬프팅 기법을 적용해 보세요.\n",
        "prompt = PromptTemplate.from_template(\n",
        "    \"\"\"You are a financial advisor chatbot.\n",
        "Provide information about financial products, investment strategies,\n",
        "and personal finance management.\n",
        "\n",
        "answer korean\n",
        "\n",
        "#Context:\n",
        "{context}\n",
        "\n",
        "#Question:\n",
        "{question}\n",
        "\n",
        "#Answer:\"\"\"\n",
        ")"
      ]
    },
    {
      "cell_type": "code",
      "execution_count": 16,
      "metadata": {
        "colab": {
          "base_uri": "https://localhost:8080/"
        },
        "id": "HLEBf56A-3t0",
        "outputId": "a51c26a2-8fda-4d01-f71e-b840a1edc58d"
      },
      "outputs": [
        {
          "name": "stdout",
          "output_type": "stream",
          "text": [
            "강의 자료의 핵심 내용은 인공지능과 머신러닝의 개념을 설명하고, 머신러닝의 필수 라이브러리를 소개하는 것입니다. 구체적으로는 인공지능과 머신러닝의 정의, 예측 분석과 통계적 머신러닝의 역할, 지도 학습과 비지도 학습의 차이점, 그리고 머신러닝을 위한 필수 라이브러리인 파이썬, 싸이킷런, 주피터 노트북, NumPy, SciPy, matplotlib, pandas, mglearn 등을 다루고 있습니다.\n"
          ]
        }
      ],
      "source": [
        "# 단계 7: 언어모델(LLM) 생성\n",
        "# 모델(LLM) 을 생성합니다.\n",
        "llm = ChatOpenAI(model_name=\"gpt-4o\", temperature=0) #2주차 과제와 마찬가지로 여러가지 모델을 연동할 수 있습니다. OpenAI뿐 아니라 Gemini나 Claude 등 다양한 모델을 연동해 보셔도 좋습니다.\n",
        "\n",
        "# 단계 8: 체인(Chain) 생성\n",
        "# promt, llm, vectodDB를 이어붙인 간단한 chain입니다. 제공드린 핵심예제를 보고 기능에 맞게 추가로 다른 체인을 연동해 보세요.\n",
        "chain = (\n",
        "    {\"context\": retriever, \"question\": RunnablePassthrough()}\n",
        "    | prompt\n",
        "    | llm\n",
        "    | StrOutputParser()\n",
        ")\n",
        "\n",
        "\"\"\"생성된 체인에 쿼리(질문)을 입력하고 실행합니다.\"\"\"\n",
        "\n",
        "# 체인 실행(Run Chain)\n",
        "# 문서에 대한 질의를 입력하고, 답변을 출력합니다.\n",
        "question = \"강의 자료의 핵심 내용은?\"\n",
        "response = chain.invoke(question)\n",
        "print(response)"
      ]
    }
  ],
  "metadata": {
    "colab": {
      "provenance": []
    },
    "kernelspec": {
      "display_name": ".venv",
      "language": "python",
      "name": "python3"
    },
    "language_info": {
      "codemirror_mode": {
        "name": "ipython",
        "version": 3
      },
      "file_extension": ".py",
      "mimetype": "text/x-python",
      "name": "python",
      "nbconvert_exporter": "python",
      "pygments_lexer": "ipython3",
      "version": "3.13.2"
    }
  },
  "nbformat": 4,
  "nbformat_minor": 0
}
