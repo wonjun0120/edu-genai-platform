{
  "cells": [
    {
      "cell_type": "markdown",
      "metadata": {
        "id": "Y3pglQAQIsEK"
      },
      "source": [
        "# Frontend 구현 및 배포\n",
        "\n",
        "2주차_코멘토_인공지능_Backend_이름.ipynb를 작성해 주셨으면, 이를 바탕으로 실제로 작동하는 프로토타입을 완성할 수 있는 예제코드입니다.\n",
        "\n",
        "# 1. 과제 안내\n",
        "\n",
        "- PDF 문서 분석 및 질의응답: PDF 문서를 업로드하면, 문서 내용을 분석하여 관련 질문에 대한 답변을 제공하는 RAG 파이프라인을 Frontend와 연동하는 과정입니다.\n",
        "\n",
        "- Streamlit 웹 인터페이스: Streamlit을 사용하여 사용자가 쉽게 접근하고 질문할 수 있는 직관적인 웹 기반 챗봇 UI를 제공합니다.\n",
        "\n",
        "- API 기반 모델 활용: 최신모델을 사용하여 정확하고 상세한 답변을 생성하며, 질문과 관련된 추가 질문까지 제안하여 사용자 경험을 향상시켜 보세요.\n",
        "\n",
        "- 답변 요약 및 시각화: 생성된 답변을 요약하여 제공하며, 검색된 문서의 주요 키워드를 워드 클라우드로 시각화하여 한눈에 내용을 파악할 수 있도록 돕습니다.\n",
        "\n",
        "- PDF 답변 다운로드: 생성된 답변을 PDF 파일로 다운로드할 수 있는 기능을 제공하여 정보 활용성을 높였습니다.\n",
        "\n",
        "- 로컬 환경 실행 지원: localtunnel을 통해 로컬 환경에서도 쉽게 챗봇에 접속하고 테스트할 수 있습니다.\n",
        "\n",
        "# 2. 예제 코드 활용 및 테스트 방법\n",
        "- Colab에서 코드를 실행합니다.\n",
        "- 생성된 Streamlit 애플리케이션 링크에 접속합니다.\n",
        "- 사이드바에 있는 \"PDF 파일 업로드\" 버튼을 클릭하여 ETF 관련 PDF 문서를 업로드합니다.\n",
        "- 하단의 입력창에 ETF 관련 질문을 입력하면 챗봇이 문서 내용을 기반으로 답변을 생성해줍니다."
      ]
    },
    {
      "cell_type": "code",
      "execution_count": 1,
      "metadata": {
        "colab": {
          "base_uri": "https://localhost:8080/"
        },
        "id": "N1NW-mUOPNFT",
        "outputId": "f00f5236-6638-40a6-da80-ba100ff27266"
      },
      "outputs": [
        {
          "name": "stdout",
          "output_type": "stream",
          "text": [
            "Requirement already satisfied: reportlab in /Users/choiwonjun/Project/edu-genai-platform/.venv/lib/python3.13/site-packages (4.4.2)\n",
            "Requirement already satisfied: pillow>=9.0.0 in /Users/choiwonjun/Project/edu-genai-platform/.venv/lib/python3.13/site-packages (from reportlab) (11.3.0)\n",
            "Requirement already satisfied: charset-normalizer in /Users/choiwonjun/Project/edu-genai-platform/.venv/lib/python3.13/site-packages (from reportlab) (3.4.2)\n"
          ]
        }
      ],
      "source": [
        "!pip install -q streamlit\n",
        "!pip install reportlab"
      ]
    },
    {
      "cell_type": "code",
      "execution_count": 2,
      "metadata": {
        "colab": {
          "base_uri": "https://localhost:8080/"
        },
        "id": "D4GoNoAFqqqW",
        "outputId": "c4d536be-45c0-4dc6-bcde-37c5ed7b8971"
      },
      "outputs": [
        {
          "name": "stdout",
          "output_type": "stream",
          "text": [
            "Requirement already satisfied: python-dotenv in /Users/choiwonjun/Project/edu-genai-platform/.venv/lib/python3.13/site-packages (1.1.1)\n",
            "Requirement already satisfied: faiss-cpu in /Users/choiwonjun/Project/edu-genai-platform/.venv/lib/python3.13/site-packages (1.11.0)\n",
            "Requirement already satisfied: numpy<3.0,>=1.25.0 in /Users/choiwonjun/Project/edu-genai-platform/.venv/lib/python3.13/site-packages (from faiss-cpu) (2.2.6)\n",
            "Requirement already satisfied: packaging in /Users/choiwonjun/Project/edu-genai-platform/.venv/lib/python3.13/site-packages (from faiss-cpu) (24.2)\n",
            "Requirement already satisfied: pymupdf in /Users/choiwonjun/Project/edu-genai-platform/.venv/lib/python3.13/site-packages (1.26.3)\n"
          ]
        }
      ],
      "source": [
        "!pip install python-dotenv\n",
        "!pip install faiss-cpu\n",
        "!pip install pymupdf"
      ]
    },
    {
      "cell_type": "code",
      "execution_count": 7,
      "metadata": {
        "colab": {
          "base_uri": "https://localhost:8080/"
        },
        "id": "xPFnYR3urx1Z",
        "outputId": "4285a0c0-c4e3-47b9-a420-638e2cc1c2f7"
      },
      "outputs": [
        {
          "name": "stdout",
          "output_type": "stream",
          "text": [
            "Requirement already satisfied: langchain_community in /Users/choiwonjun/Project/edu-genai-platform/.venv/lib/python3.13/site-packages (0.3.27)\n",
            "Requirement already satisfied: langchain-core<1.0.0,>=0.3.66 in /Users/choiwonjun/Project/edu-genai-platform/.venv/lib/python3.13/site-packages (from langchain_community) (0.3.68)\n",
            "Requirement already satisfied: langchain<1.0.0,>=0.3.26 in /Users/choiwonjun/Project/edu-genai-platform/.venv/lib/python3.13/site-packages (from langchain_community) (0.3.26)\n",
            "Requirement already satisfied: SQLAlchemy<3,>=1.4 in /Users/choiwonjun/Project/edu-genai-platform/.venv/lib/python3.13/site-packages (from langchain_community) (2.0.41)\n",
            "Requirement already satisfied: requests<3,>=2 in /Users/choiwonjun/Project/edu-genai-platform/.venv/lib/python3.13/site-packages (from langchain_community) (2.32.4)\n",
            "Requirement already satisfied: PyYAML>=5.3 in /Users/choiwonjun/Project/edu-genai-platform/.venv/lib/python3.13/site-packages (from langchain_community) (6.0.2)\n",
            "Requirement already satisfied: aiohttp<4.0.0,>=3.8.3 in /Users/choiwonjun/Project/edu-genai-platform/.venv/lib/python3.13/site-packages (from langchain_community) (3.12.13)\n",
            "Requirement already satisfied: tenacity!=8.4.0,<10,>=8.1.0 in /Users/choiwonjun/Project/edu-genai-platform/.venv/lib/python3.13/site-packages (from langchain_community) (9.1.2)\n",
            "Requirement already satisfied: dataclasses-json<0.7,>=0.5.7 in /Users/choiwonjun/Project/edu-genai-platform/.venv/lib/python3.13/site-packages (from langchain_community) (0.6.7)\n",
            "Requirement already satisfied: pydantic-settings<3.0.0,>=2.4.0 in /Users/choiwonjun/Project/edu-genai-platform/.venv/lib/python3.13/site-packages (from langchain_community) (2.10.1)\n",
            "Requirement already satisfied: langsmith>=0.1.125 in /Users/choiwonjun/Project/edu-genai-platform/.venv/lib/python3.13/site-packages (from langchain_community) (0.4.4)\n",
            "Requirement already satisfied: httpx-sse<1.0.0,>=0.4.0 in /Users/choiwonjun/Project/edu-genai-platform/.venv/lib/python3.13/site-packages (from langchain_community) (0.4.1)\n",
            "Requirement already satisfied: numpy>=2.1.0 in /Users/choiwonjun/Project/edu-genai-platform/.venv/lib/python3.13/site-packages (from langchain_community) (2.2.6)\n",
            "Requirement already satisfied: aiohappyeyeballs>=2.5.0 in /Users/choiwonjun/Project/edu-genai-platform/.venv/lib/python3.13/site-packages (from aiohttp<4.0.0,>=3.8.3->langchain_community) (2.6.1)\n",
            "Requirement already satisfied: aiosignal>=1.1.2 in /Users/choiwonjun/Project/edu-genai-platform/.venv/lib/python3.13/site-packages (from aiohttp<4.0.0,>=3.8.3->langchain_community) (1.4.0)\n",
            "Requirement already satisfied: attrs>=17.3.0 in /Users/choiwonjun/Project/edu-genai-platform/.venv/lib/python3.13/site-packages (from aiohttp<4.0.0,>=3.8.3->langchain_community) (25.3.0)\n",
            "Requirement already satisfied: frozenlist>=1.1.1 in /Users/choiwonjun/Project/edu-genai-platform/.venv/lib/python3.13/site-packages (from aiohttp<4.0.0,>=3.8.3->langchain_community) (1.7.0)\n",
            "Requirement already satisfied: multidict<7.0,>=4.5 in /Users/choiwonjun/Project/edu-genai-platform/.venv/lib/python3.13/site-packages (from aiohttp<4.0.0,>=3.8.3->langchain_community) (6.6.3)\n",
            "Requirement already satisfied: propcache>=0.2.0 in /Users/choiwonjun/Project/edu-genai-platform/.venv/lib/python3.13/site-packages (from aiohttp<4.0.0,>=3.8.3->langchain_community) (0.3.2)\n",
            "Requirement already satisfied: yarl<2.0,>=1.17.0 in /Users/choiwonjun/Project/edu-genai-platform/.venv/lib/python3.13/site-packages (from aiohttp<4.0.0,>=3.8.3->langchain_community) (1.20.1)\n",
            "Requirement already satisfied: marshmallow<4.0.0,>=3.18.0 in /Users/choiwonjun/Project/edu-genai-platform/.venv/lib/python3.13/site-packages (from dataclasses-json<0.7,>=0.5.7->langchain_community) (3.26.1)\n",
            "Requirement already satisfied: typing-inspect<1,>=0.4.0 in /Users/choiwonjun/Project/edu-genai-platform/.venv/lib/python3.13/site-packages (from dataclasses-json<0.7,>=0.5.7->langchain_community) (0.9.0)\n",
            "Requirement already satisfied: langchain-text-splitters<1.0.0,>=0.3.8 in /Users/choiwonjun/Project/edu-genai-platform/.venv/lib/python3.13/site-packages (from langchain<1.0.0,>=0.3.26->langchain_community) (0.3.8)\n",
            "Requirement already satisfied: pydantic<3.0.0,>=2.7.4 in /Users/choiwonjun/Project/edu-genai-platform/.venv/lib/python3.13/site-packages (from langchain<1.0.0,>=0.3.26->langchain_community) (2.11.7)\n",
            "Requirement already satisfied: jsonpatch<2.0,>=1.33 in /Users/choiwonjun/Project/edu-genai-platform/.venv/lib/python3.13/site-packages (from langchain-core<1.0.0,>=0.3.66->langchain_community) (1.33)\n",
            "Requirement already satisfied: packaging<25,>=23.2 in /Users/choiwonjun/Project/edu-genai-platform/.venv/lib/python3.13/site-packages (from langchain-core<1.0.0,>=0.3.66->langchain_community) (24.2)\n",
            "Requirement already satisfied: typing-extensions>=4.7 in /Users/choiwonjun/Project/edu-genai-platform/.venv/lib/python3.13/site-packages (from langchain-core<1.0.0,>=0.3.66->langchain_community) (4.14.1)\n",
            "Requirement already satisfied: jsonpointer>=1.9 in /Users/choiwonjun/Project/edu-genai-platform/.venv/lib/python3.13/site-packages (from jsonpatch<2.0,>=1.33->langchain-core<1.0.0,>=0.3.66->langchain_community) (3.0.0)\n",
            "Requirement already satisfied: annotated-types>=0.6.0 in /Users/choiwonjun/Project/edu-genai-platform/.venv/lib/python3.13/site-packages (from pydantic<3.0.0,>=2.7.4->langchain<1.0.0,>=0.3.26->langchain_community) (0.7.0)\n",
            "Requirement already satisfied: pydantic-core==2.33.2 in /Users/choiwonjun/Project/edu-genai-platform/.venv/lib/python3.13/site-packages (from pydantic<3.0.0,>=2.7.4->langchain<1.0.0,>=0.3.26->langchain_community) (2.33.2)\n",
            "Requirement already satisfied: typing-inspection>=0.4.0 in /Users/choiwonjun/Project/edu-genai-platform/.venv/lib/python3.13/site-packages (from pydantic<3.0.0,>=2.7.4->langchain<1.0.0,>=0.3.26->langchain_community) (0.4.1)\n",
            "Requirement already satisfied: python-dotenv>=0.21.0 in /Users/choiwonjun/Project/edu-genai-platform/.venv/lib/python3.13/site-packages (from pydantic-settings<3.0.0,>=2.4.0->langchain_community) (1.1.1)\n",
            "Requirement already satisfied: charset_normalizer<4,>=2 in /Users/choiwonjun/Project/edu-genai-platform/.venv/lib/python3.13/site-packages (from requests<3,>=2->langchain_community) (3.4.2)\n",
            "Requirement already satisfied: idna<4,>=2.5 in /Users/choiwonjun/Project/edu-genai-platform/.venv/lib/python3.13/site-packages (from requests<3,>=2->langchain_community) (3.10)\n",
            "Requirement already satisfied: urllib3<3,>=1.21.1 in /Users/choiwonjun/Project/edu-genai-platform/.venv/lib/python3.13/site-packages (from requests<3,>=2->langchain_community) (2.5.0)\n",
            "Requirement already satisfied: certifi>=2017.4.17 in /Users/choiwonjun/Project/edu-genai-platform/.venv/lib/python3.13/site-packages (from requests<3,>=2->langchain_community) (2025.7.9)\n",
            "Requirement already satisfied: mypy-extensions>=0.3.0 in /Users/choiwonjun/Project/edu-genai-platform/.venv/lib/python3.13/site-packages (from typing-inspect<1,>=0.4.0->dataclasses-json<0.7,>=0.5.7->langchain_community) (1.1.0)\n",
            "Requirement already satisfied: httpx<1,>=0.23.0 in /Users/choiwonjun/Project/edu-genai-platform/.venv/lib/python3.13/site-packages (from langsmith>=0.1.125->langchain_community) (0.28.1)\n",
            "Requirement already satisfied: orjson<4.0.0,>=3.9.14 in /Users/choiwonjun/Project/edu-genai-platform/.venv/lib/python3.13/site-packages (from langsmith>=0.1.125->langchain_community) (3.10.18)\n",
            "Requirement already satisfied: requests-toolbelt<2.0.0,>=1.0.0 in /Users/choiwonjun/Project/edu-genai-platform/.venv/lib/python3.13/site-packages (from langsmith>=0.1.125->langchain_community) (1.0.0)\n",
            "Requirement already satisfied: zstandard<0.24.0,>=0.23.0 in /Users/choiwonjun/Project/edu-genai-platform/.venv/lib/python3.13/site-packages (from langsmith>=0.1.125->langchain_community) (0.23.0)\n",
            "Requirement already satisfied: anyio in /Users/choiwonjun/Project/edu-genai-platform/.venv/lib/python3.13/site-packages (from httpx<1,>=0.23.0->langsmith>=0.1.125->langchain_community) (4.9.0)\n",
            "Requirement already satisfied: httpcore==1.* in /Users/choiwonjun/Project/edu-genai-platform/.venv/lib/python3.13/site-packages (from httpx<1,>=0.23.0->langsmith>=0.1.125->langchain_community) (1.0.9)\n",
            "Requirement already satisfied: h11>=0.16 in /Users/choiwonjun/Project/edu-genai-platform/.venv/lib/python3.13/site-packages (from httpcore==1.*->httpx<1,>=0.23.0->langsmith>=0.1.125->langchain_community) (0.16.0)\n",
            "Requirement already satisfied: sniffio>=1.1 in /Users/choiwonjun/Project/edu-genai-platform/.venv/lib/python3.13/site-packages (from anyio->httpx<1,>=0.23.0->langsmith>=0.1.125->langchain_community) (1.3.1)\n",
            "Requirement already satisfied: langchain_openai in /Users/choiwonjun/Project/edu-genai-platform/.venv/lib/python3.13/site-packages (0.3.27)\n",
            "Requirement already satisfied: langchain-core<1.0.0,>=0.3.66 in /Users/choiwonjun/Project/edu-genai-platform/.venv/lib/python3.13/site-packages (from langchain_openai) (0.3.68)\n",
            "Requirement already satisfied: openai<2.0.0,>=1.86.0 in /Users/choiwonjun/Project/edu-genai-platform/.venv/lib/python3.13/site-packages (from langchain_openai) (1.93.2)\n",
            "Requirement already satisfied: tiktoken<1,>=0.7 in /Users/choiwonjun/Project/edu-genai-platform/.venv/lib/python3.13/site-packages (from langchain_openai) (0.9.0)\n",
            "Requirement already satisfied: langsmith>=0.3.45 in /Users/choiwonjun/Project/edu-genai-platform/.venv/lib/python3.13/site-packages (from langchain-core<1.0.0,>=0.3.66->langchain_openai) (0.4.4)\n",
            "Requirement already satisfied: tenacity!=8.4.0,<10.0.0,>=8.1.0 in /Users/choiwonjun/Project/edu-genai-platform/.venv/lib/python3.13/site-packages (from langchain-core<1.0.0,>=0.3.66->langchain_openai) (9.1.2)\n",
            "Requirement already satisfied: jsonpatch<2.0,>=1.33 in /Users/choiwonjun/Project/edu-genai-platform/.venv/lib/python3.13/site-packages (from langchain-core<1.0.0,>=0.3.66->langchain_openai) (1.33)\n",
            "Requirement already satisfied: PyYAML>=5.3 in /Users/choiwonjun/Project/edu-genai-platform/.venv/lib/python3.13/site-packages (from langchain-core<1.0.0,>=0.3.66->langchain_openai) (6.0.2)\n",
            "Requirement already satisfied: packaging<25,>=23.2 in /Users/choiwonjun/Project/edu-genai-platform/.venv/lib/python3.13/site-packages (from langchain-core<1.0.0,>=0.3.66->langchain_openai) (24.2)\n",
            "Requirement already satisfied: typing-extensions>=4.7 in /Users/choiwonjun/Project/edu-genai-platform/.venv/lib/python3.13/site-packages (from langchain-core<1.0.0,>=0.3.66->langchain_openai) (4.14.1)\n",
            "Requirement already satisfied: pydantic>=2.7.4 in /Users/choiwonjun/Project/edu-genai-platform/.venv/lib/python3.13/site-packages (from langchain-core<1.0.0,>=0.3.66->langchain_openai) (2.11.7)\n",
            "Requirement already satisfied: jsonpointer>=1.9 in /Users/choiwonjun/Project/edu-genai-platform/.venv/lib/python3.13/site-packages (from jsonpatch<2.0,>=1.33->langchain-core<1.0.0,>=0.3.66->langchain_openai) (3.0.0)\n",
            "Requirement already satisfied: anyio<5,>=3.5.0 in /Users/choiwonjun/Project/edu-genai-platform/.venv/lib/python3.13/site-packages (from openai<2.0.0,>=1.86.0->langchain_openai) (4.9.0)\n",
            "Requirement already satisfied: distro<2,>=1.7.0 in /Users/choiwonjun/Project/edu-genai-platform/.venv/lib/python3.13/site-packages (from openai<2.0.0,>=1.86.0->langchain_openai) (1.9.0)\n",
            "Requirement already satisfied: httpx<1,>=0.23.0 in /Users/choiwonjun/Project/edu-genai-platform/.venv/lib/python3.13/site-packages (from openai<2.0.0,>=1.86.0->langchain_openai) (0.28.1)\n",
            "Requirement already satisfied: jiter<1,>=0.4.0 in /Users/choiwonjun/Project/edu-genai-platform/.venv/lib/python3.13/site-packages (from openai<2.0.0,>=1.86.0->langchain_openai) (0.10.0)\n",
            "Requirement already satisfied: sniffio in /Users/choiwonjun/Project/edu-genai-platform/.venv/lib/python3.13/site-packages (from openai<2.0.0,>=1.86.0->langchain_openai) (1.3.1)\n",
            "Requirement already satisfied: tqdm>4 in /Users/choiwonjun/Project/edu-genai-platform/.venv/lib/python3.13/site-packages (from openai<2.0.0,>=1.86.0->langchain_openai) (4.67.1)\n",
            "Requirement already satisfied: idna>=2.8 in /Users/choiwonjun/Project/edu-genai-platform/.venv/lib/python3.13/site-packages (from anyio<5,>=3.5.0->openai<2.0.0,>=1.86.0->langchain_openai) (3.10)\n",
            "Requirement already satisfied: certifi in /Users/choiwonjun/Project/edu-genai-platform/.venv/lib/python3.13/site-packages (from httpx<1,>=0.23.0->openai<2.0.0,>=1.86.0->langchain_openai) (2025.7.9)\n",
            "Requirement already satisfied: httpcore==1.* in /Users/choiwonjun/Project/edu-genai-platform/.venv/lib/python3.13/site-packages (from httpx<1,>=0.23.0->openai<2.0.0,>=1.86.0->langchain_openai) (1.0.9)\n",
            "Requirement already satisfied: h11>=0.16 in /Users/choiwonjun/Project/edu-genai-platform/.venv/lib/python3.13/site-packages (from httpcore==1.*->httpx<1,>=0.23.0->openai<2.0.0,>=1.86.0->langchain_openai) (0.16.0)\n",
            "Requirement already satisfied: annotated-types>=0.6.0 in /Users/choiwonjun/Project/edu-genai-platform/.venv/lib/python3.13/site-packages (from pydantic>=2.7.4->langchain-core<1.0.0,>=0.3.66->langchain_openai) (0.7.0)\n",
            "Requirement already satisfied: pydantic-core==2.33.2 in /Users/choiwonjun/Project/edu-genai-platform/.venv/lib/python3.13/site-packages (from pydantic>=2.7.4->langchain-core<1.0.0,>=0.3.66->langchain_openai) (2.33.2)\n",
            "Requirement already satisfied: typing-inspection>=0.4.0 in /Users/choiwonjun/Project/edu-genai-platform/.venv/lib/python3.13/site-packages (from pydantic>=2.7.4->langchain-core<1.0.0,>=0.3.66->langchain_openai) (0.4.1)\n",
            "Requirement already satisfied: regex>=2022.1.18 in /Users/choiwonjun/Project/edu-genai-platform/.venv/lib/python3.13/site-packages (from tiktoken<1,>=0.7->langchain_openai) (2024.11.6)\n",
            "Requirement already satisfied: requests>=2.26.0 in /Users/choiwonjun/Project/edu-genai-platform/.venv/lib/python3.13/site-packages (from tiktoken<1,>=0.7->langchain_openai) (2.32.4)\n",
            "Requirement already satisfied: orjson<4.0.0,>=3.9.14 in /Users/choiwonjun/Project/edu-genai-platform/.venv/lib/python3.13/site-packages (from langsmith>=0.3.45->langchain-core<1.0.0,>=0.3.66->langchain_openai) (3.10.18)\n",
            "Requirement already satisfied: requests-toolbelt<2.0.0,>=1.0.0 in /Users/choiwonjun/Project/edu-genai-platform/.venv/lib/python3.13/site-packages (from langsmith>=0.3.45->langchain-core<1.0.0,>=0.3.66->langchain_openai) (1.0.0)\n",
            "Requirement already satisfied: zstandard<0.24.0,>=0.23.0 in /Users/choiwonjun/Project/edu-genai-platform/.venv/lib/python3.13/site-packages (from langsmith>=0.3.45->langchain-core<1.0.0,>=0.3.66->langchain_openai) (0.23.0)\n",
            "Requirement already satisfied: charset_normalizer<4,>=2 in /Users/choiwonjun/Project/edu-genai-platform/.venv/lib/python3.13/site-packages (from requests>=2.26.0->tiktoken<1,>=0.7->langchain_openai) (3.4.2)\n",
            "Requirement already satisfied: urllib3<3,>=1.21.1 in /Users/choiwonjun/Project/edu-genai-platform/.venv/lib/python3.13/site-packages (from requests>=2.26.0->tiktoken<1,>=0.7->langchain_openai) (2.5.0)\n",
            "Requirement already satisfied: wordcloud in /Users/choiwonjun/Project/edu-genai-platform/.venv/lib/python3.13/site-packages (1.9.4)\n",
            "Requirement already satisfied: numpy>=1.6.1 in /Users/choiwonjun/Project/edu-genai-platform/.venv/lib/python3.13/site-packages (from wordcloud) (2.2.6)\n",
            "Requirement already satisfied: pillow in /Users/choiwonjun/Project/edu-genai-platform/.venv/lib/python3.13/site-packages (from wordcloud) (11.3.0)\n",
            "Requirement already satisfied: matplotlib in /Users/choiwonjun/Project/edu-genai-platform/.venv/lib/python3.13/site-packages (from wordcloud) (3.10.3)\n",
            "Requirement already satisfied: contourpy>=1.0.1 in /Users/choiwonjun/Project/edu-genai-platform/.venv/lib/python3.13/site-packages (from matplotlib->wordcloud) (1.3.2)\n",
            "Requirement already satisfied: cycler>=0.10 in /Users/choiwonjun/Project/edu-genai-platform/.venv/lib/python3.13/site-packages (from matplotlib->wordcloud) (0.12.1)\n",
            "Requirement already satisfied: fonttools>=4.22.0 in /Users/choiwonjun/Project/edu-genai-platform/.venv/lib/python3.13/site-packages (from matplotlib->wordcloud) (4.58.5)\n",
            "Requirement already satisfied: kiwisolver>=1.3.1 in /Users/choiwonjun/Project/edu-genai-platform/.venv/lib/python3.13/site-packages (from matplotlib->wordcloud) (1.4.8)\n",
            "Requirement already satisfied: packaging>=20.0 in /Users/choiwonjun/Project/edu-genai-platform/.venv/lib/python3.13/site-packages (from matplotlib->wordcloud) (24.2)\n",
            "Requirement already satisfied: pyparsing>=2.3.1 in /Users/choiwonjun/Project/edu-genai-platform/.venv/lib/python3.13/site-packages (from matplotlib->wordcloud) (3.2.3)\n",
            "Requirement already satisfied: python-dateutil>=2.7 in /Users/choiwonjun/Project/edu-genai-platform/.venv/lib/python3.13/site-packages (from matplotlib->wordcloud) (2.9.0.post0)\n",
            "Requirement already satisfied: six>=1.5 in /Users/choiwonjun/Project/edu-genai-platform/.venv/lib/python3.13/site-packages (from python-dateutil>=2.7->matplotlib->wordcloud) (1.17.0)\n",
            "Requirement already satisfied: matplotlib in /Users/choiwonjun/Project/edu-genai-platform/.venv/lib/python3.13/site-packages (3.10.3)\n",
            "Requirement already satisfied: contourpy>=1.0.1 in /Users/choiwonjun/Project/edu-genai-platform/.venv/lib/python3.13/site-packages (from matplotlib) (1.3.2)\n",
            "Requirement already satisfied: cycler>=0.10 in /Users/choiwonjun/Project/edu-genai-platform/.venv/lib/python3.13/site-packages (from matplotlib) (0.12.1)\n",
            "Requirement already satisfied: fonttools>=4.22.0 in /Users/choiwonjun/Project/edu-genai-platform/.venv/lib/python3.13/site-packages (from matplotlib) (4.58.5)\n",
            "Requirement already satisfied: kiwisolver>=1.3.1 in /Users/choiwonjun/Project/edu-genai-platform/.venv/lib/python3.13/site-packages (from matplotlib) (1.4.8)\n",
            "Requirement already satisfied: numpy>=1.23 in /Users/choiwonjun/Project/edu-genai-platform/.venv/lib/python3.13/site-packages (from matplotlib) (2.2.6)\n",
            "Requirement already satisfied: packaging>=20.0 in /Users/choiwonjun/Project/edu-genai-platform/.venv/lib/python3.13/site-packages (from matplotlib) (24.2)\n",
            "Requirement already satisfied: pillow>=8 in /Users/choiwonjun/Project/edu-genai-platform/.venv/lib/python3.13/site-packages (from matplotlib) (11.3.0)\n",
            "Requirement already satisfied: pyparsing>=2.3.1 in /Users/choiwonjun/Project/edu-genai-platform/.venv/lib/python3.13/site-packages (from matplotlib) (3.2.3)\n",
            "Requirement already satisfied: python-dateutil>=2.7 in /Users/choiwonjun/Project/edu-genai-platform/.venv/lib/python3.13/site-packages (from matplotlib) (2.9.0.post0)\n",
            "Requirement already satisfied: six>=1.5 in /Users/choiwonjun/Project/edu-genai-platform/.venv/lib/python3.13/site-packages (from python-dateutil>=2.7->matplotlib) (1.17.0)\n"
          ]
        }
      ],
      "source": [
        "!pip install langchain_community\n",
        "!pip install langchain_openai\n",
        "!pip install wordcloud\n",
        "!pip install matplotlib"
      ]
    },
    {
      "cell_type": "code",
      "execution_count": null,
      "metadata": {
        "colab": {
          "base_uri": "https://localhost:8080/"
        },
        "id": "o2LgjJm5oBUx",
        "outputId": "e77d68b2-3369-406d-f48c-dae58c56e280"
      },
      "outputs": [
        {
          "name": "stderr",
          "output_type": "stream",
          "text": [
            "2025-07-09 22:00:33.979 WARNING streamlit.runtime.scriptrunner_utils.script_run_context: Thread 'MainThread': missing ScriptRunContext! This warning can be ignored when running in bare mode.\n",
            "2025-07-09 22:00:33.980 WARNING streamlit.runtime.scriptrunner_utils.script_run_context: Thread 'MainThread': missing ScriptRunContext! This warning can be ignored when running in bare mode.\n",
            "2025-07-09 22:00:33.996 \n",
            "  \u001b[33m\u001b[1mWarning:\u001b[0m to view this Streamlit app on a browser, run it with the following\n",
            "  command:\n",
            "\n",
            "    streamlit run /Users/choiwonjun/Project/edu-genai-platform/.venv/lib/python3.13/site-packages/ipykernel_launcher.py [ARGUMENTS]\n",
            "2025-07-09 22:00:33.997 Thread 'MainThread': missing ScriptRunContext! This warning can be ignored when running in bare mode.\n",
            "2025-07-09 22:00:33.997 Thread 'MainThread': missing ScriptRunContext! This warning can be ignored when running in bare mode.\n",
            "2025-07-09 22:00:33.997 Thread 'MainThread': missing ScriptRunContext! This warning can be ignored when running in bare mode.\n",
            "2025-07-09 22:00:33.998 Thread 'MainThread': missing ScriptRunContext! This warning can be ignored when running in bare mode.\n",
            "2025-07-09 22:00:33.998 Thread 'MainThread': missing ScriptRunContext! This warning can be ignored when running in bare mode.\n",
            "2025-07-09 22:00:33.998 Thread 'MainThread': missing ScriptRunContext! This warning can be ignored when running in bare mode.\n",
            "2025-07-09 22:00:33.998 Session state does not function when running a script without `streamlit run`\n",
            "2025-07-09 22:00:33.998 Thread 'MainThread': missing ScriptRunContext! This warning can be ignored when running in bare mode.\n",
            "2025-07-09 22:00:33.998 Thread 'MainThread': missing ScriptRunContext! This warning can be ignored when running in bare mode.\n",
            "2025-07-09 22:00:33.999 Thread 'MainThread': missing ScriptRunContext! This warning can be ignored when running in bare mode.\n",
            "2025-07-09 22:00:33.999 Thread 'MainThread': missing ScriptRunContext! This warning can be ignored when running in bare mode.\n",
            "2025-07-09 22:00:33.999 Thread 'MainThread': missing ScriptRunContext! This warning can be ignored when running in bare mode.\n",
            "2025-07-09 22:00:33.999 Thread 'MainThread': missing ScriptRunContext! This warning can be ignored when running in bare mode.\n",
            "2025-07-09 22:00:33.999 Thread 'MainThread': missing ScriptRunContext! This warning can be ignored when running in bare mode.\n",
            "2025-07-09 22:00:34.000 Thread 'MainThread': missing ScriptRunContext! This warning can be ignored when running in bare mode.\n",
            "2025-07-09 22:00:34.000 Thread 'MainThread': missing ScriptRunContext! This warning can be ignored when running in bare mode.\n",
            "2025-07-09 22:00:34.001 Thread 'MainThread': missing ScriptRunContext! This warning can be ignored when running in bare mode.\n",
            "2025-07-09 22:00:34.002 Thread 'MainThread': missing ScriptRunContext! This warning can be ignored when running in bare mode.\n",
            "2025-07-09 22:00:34.002 Thread 'MainThread': missing ScriptRunContext! This warning can be ignored when running in bare mode.\n",
            "2025-07-09 22:00:34.002 Thread 'MainThread': missing ScriptRunContext! This warning can be ignored when running in bare mode.\n",
            "2025-07-09 22:00:34.002 Thread 'MainThread': missing ScriptRunContext! This warning can be ignored when running in bare mode.\n",
            "2025-07-09 22:00:34.002 Thread 'MainThread': missing ScriptRunContext! This warning can be ignored when running in bare mode.\n",
            "2025-07-09 22:00:34.002 Thread 'MainThread': missing ScriptRunContext! This warning can be ignored when running in bare mode.\n",
            "2025-07-09 22:00:34.003 Thread 'MainThread': missing ScriptRunContext! This warning can be ignored when running in bare mode.\n",
            "2025-07-09 22:00:34.003 Thread 'MainThread': missing ScriptRunContext! This warning can be ignored when running in bare mode.\n"
          ]
        }
      ],
      "source": [
        "# Streamlit 앱 코드 작성 및 저장\n",
        "# 2차, 3차 업무를 통해 구현한 RAG 파이프라인을 활용해서 앱 코드를 작성해주세요.\n",
        "%%writefile app.py\n",
        "\n",
        "import streamlit as st\n",
        "from dotenv import load_dotenv\n",
        "import openai\n",
        "import os\n",
        "from langchain_text_splitters import RecursiveCharacterTextSplitter\n",
        "from langchain_community.document_loaders import PyMuPDFLoader\n",
        "from langchain_community.vectorstores import FAISS\n",
        "from langchain_core.output_parsers import StrOutputParser\n",
        "from langchain_core.runnables import RunnablePassthrough\n",
        "from langchain_core.prompts import PromptTemplate\n",
        "from langchain_openai import ChatOpenAI, OpenAIEmbeddings\n",
        "from langchain.chains.summarize import load_summarize_chain\n",
        "from io import BytesIO\n",
        "from reportlab.lib.pagesizes import letter\n",
        "from reportlab.pdfgen import canvas\n",
        "import base64\n",
        "from wordcloud import WordCloud\n",
        "import matplotlib.pyplot as plt\n",
        "\n",
        "# Streamlit 페이지 설정\n",
        "st.set_page_config(page_title=\"ETF 질의응답 챗봇\", page_icon=\":robot:\")\n",
        "\n",
        "# 제목 및 설명\n",
        "st.title(\"ETF 질의응답 챗봇\")\n",
        "st.markdown(\"ETF 관련 질문을 입력하고 PDF 문서를 업로드하세요.\")\n",
        "\n",
        "# 세션 상태 초기화\n",
        "if \"messages\" not in st.session_state:\n",
        "    st.session_state.messages = []\n",
        "\n",
        "# 챗 히스토리 표시\n",
        "for message in st.session_state.messages:\n",
        "    with st.chat_message(message[\"role\"]):\n",
        "        st.markdown(message[\"content\"])\n",
        "\n",
        "# 파일 업로드 위젯 (사이드바)\n",
        "with st.sidebar:\n",
        "    uploaded_file = st.file_uploader(\"PDF 파일 업로드\", type=\"pdf\") #pdf 외에도 다양한 형식으로 시도해 볼 수 있습니다.\n",
        "\n",
        "# 환경 변수 로드 및 OpenAI API 키 설정 (숨김)\n",
        "load_dotenv()\n",
        "api_key = os.getenv(\"OPENAI_API_KEY\")\n",
        "openai.api_key = api_key\n",
        "\n",
        "# 여기서부터 2차,3차 업무를 거쳐 구현한 RAG 파이프라인입니다.\n",
        "if uploaded_file and api_key:\n",
        "    # 파일을 임시 파일로 저장\n",
        "    with open(\"temp.pdf\", \"wb\") as f:\n",
        "        f.write(uploaded_file.read())\n",
        "\n",
        "    # 문서 로드\n",
        "    loader = PyMuPDFLoader(\"temp.pdf\")\n",
        "    docs = loader.load()\n",
        "\n",
        "    # 문서 미리보기\n",
        "    st.sidebar.subheader(\"문서 미리보기\")\n",
        "    st.sidebar.write(docs[0].page_content[:500] + \"...\")\n",
        "\n",
        "    # 문서 분할\n",
        "    text_splitter = RecursiveCharacterTextSplitter(chunk_size=500, chunk_overlap=50)\n",
        "    split_documents = text_splitter.split_documents(docs)\n",
        "\n",
        "    # 임베딩 생성\n",
        "    embeddings = OpenAIEmbeddings()\n",
        "\n",
        "    # 벡터 DB 생성 및 저장\n",
        "    vectorstore = FAISS.from_documents(documents=split_documents, embedding=embeddings)\n",
        "\n",
        "    # 검색기 생성\n",
        "    retriever = vectorstore.as_retriever()\n",
        "\n",
        "    # 프롬프트 템플릿\n",
        "    prompt = PromptTemplate.from_template(\n",
        "        \"\"\"\n",
        "        너는 ETF 투자 관련 정보를 제공하는 전문가야.\n",
        "        다음과 같이 세부 사항을 포함해서 제시해.\n",
        "        1. 참조한 가이드라인 또는 보고서의 출처 및 페이지 정보\n",
        "        2. 받은 질문과 유사한 투자자들이 관심 가질만한 질문 3가지\n",
        "\n",
        "        질문:\n",
        "        {question}\n",
        "\n",
        "        검색된 문서:\n",
        "        {context}\n",
        "\n",
        "        답변 예시:\n",
        "        질문: 특정 산업에 투자하는 ETF를 찾고 있는데, 어떤 기준으로 선택해야 하나요?\n",
        "        답변: 특정 산업 ETF 선택 시에는 다음 사항을 고려해야 합니다.\n",
        "        1. 기초지수의 구성 종목 및 비중 확인\n",
        "        2. 운용보수 및 총보수 비용 비교\n",
        "        3. 추적 오차 및 괴리율 분석\n",
        "        4. 거래량 및 유동성 확인\n",
        "        5. 장기적인 산업 전망 및 성장 가능성 평가\n",
        "\n",
        "        출처:\n",
        "        참조 보고서: ETF 투자 가이드라인\n",
        "        페이지: 12페이지\n",
        "\n",
        "        유사한 질문\n",
        "        \"특정 국가의 주식 시장에 투자하는 ETF를 추천해주세요.\"\n",
        "        \"배당 수익률이 높은 ETF에는 어떤 것들이 있나요?\"\n",
        "        \"최근 주목받는 테마형 ETF는 무엇인가요?\"\n",
        "        \"\"\"\n",
        "    )\n",
        "\n",
        "    # LLM 생성\n",
        "    llm = ChatOpenAI(model_name=\"gpt-3.5-turbo\", temperature=0)\n",
        "\n",
        "    # 체인 생성\n",
        "    chain = (\n",
        "        {\"context\": retriever, \"question\": RunnablePassthrough()}\n",
        "        | prompt\n",
        "        | llm\n",
        "        | StrOutputParser()\n",
        "    )\n",
        "\n",
        "    # 답변 요약 체인 생성\n",
        "    summarize_chain = load_summarize_chain(llm, chain_type=\"stuff\")\n",
        "\n",
        "# 여기서부터 Streamlit을 활용한 프론트엔드 구현 부분입니다. 자신이 기획한 서비스에 맞게 다양한 기능들을 추가해 보세요.\n",
        "# 질의응답 입력 위젯\n",
        "if prompt := st.chat_input(\"질문을 입력하세요:\"):\n",
        "        st.session_state.messages.append({\"role\": \"user\", \"content\": prompt})\n",
        "        st.chat_message(\"user\").markdown(prompt)\n",
        "\n",
        "        # 체인 실행 및 결과 출력\n",
        "        with st.spinner(\"답변 생성 중...\"):\n",
        "            response = chain.invoke(prompt)\n",
        "\n",
        "            # 답변 요약\n",
        "            summary = summarize_chain.run(response)\n",
        "\n",
        "            # 답변 및 요약 표시\n",
        "            st.session_state.messages.append({\"role\": \"assistant\", \"content\": f\"**요약:** {summary}\\n\\n**전체 답변:**\\n{response}\"})\n",
        "            st.chat_message(\"assistant\").markdown(f\"**요약:** {summary}\\n\\n**전체 답변:**\\n{response}\")\n",
        "\n",
        "            # 답변 다운로드 기능\n",
        "            pdf_buffer = BytesIO()\n",
        "            c = canvas.Canvas(pdf_buffer, pagesize=letter)\n",
        "            c.drawString(100, 750, response)\n",
        "            c.save()\n",
        "            pdf_out = pdf_buffer.getvalue()\n",
        "\n",
        "            st.download_button(\n",
        "                label=\"답변 다운로드 (PDF)\",\n",
        "                data=pdf_out,\n",
        "                file_name=\"response.pdf\",\n",
        "                mime=\"application/pdf\"\n",
        "            )\n",
        "\n",
        "            # 검색 결과 시각화 (워드 클라우드)\n",
        "            text = \" \".join([doc.page_content for doc in retriever.get_relevant_documents(prompt)])\n",
        "            wordcloud = WordCloud(width=800, height=400, background_color=\"white\").generate(text)\n",
        "            plt.figure(figsize=(10, 5))\n",
        "            plt.imshow(wordcloud, interpolation=\"bilinear\")\n",
        "            plt.axis(\"off\")\n",
        "            st.pyplot(plt)\n",
        "\n",
        "            # 사용자 맞춤 설정 (답변 길이)\n",
        "            if st.checkbox(\"짧은 답변 보기\"):\n",
        "                st.write(f\"**짧은 답변:** {summary}\")\n",
        "else:\n",
        "    st.info(\"사이드바에서 PDF 파일을 업로드해주세요.\")"
      ]
    },
    {
      "cell_type": "code",
      "execution_count": 9,
      "metadata": {
        "colab": {
          "base_uri": "https://localhost:8080/"
        },
        "id": "SYHF1LJUPViX",
        "outputId": "7848db6e-ec75-49c2-b2c9-91d3cf796368"
      },
      "outputs": [
        {
          "name": "stdout",
          "output_type": "stream",
          "text": [
            "Password/Enpoint IP for localtunnel is: 58.225.184.166\n"
          ]
        }
      ],
      "source": [
        "# localtunnel을 사용하기 전에 사용자의 공용 IP 주소를 확인합니다.\n",
        "import urllib\n",
        "print(\"Password/Enpoint IP for localtunnel is:\",urllib.request.urlopen('https://ipv4.icanhazip.com').read().decode('utf8').strip(\"\\n\"))\n",
        "\n",
        "# \"Password/Enpoint IP for localtunnel is:\" 우측에 표시되는 숫자를 복사하세요"
      ]
    },
    {
      "cell_type": "code",
      "execution_count": 11,
      "metadata": {
        "colab": {
          "base_uri": "https://localhost:8080/"
        },
        "id": "jucAt8IxQHyE",
        "outputId": "94b64504-aea4-4a68-a246-3dda73068492"
      },
      "outputs": [
        {
          "name": "stdout",
          "output_type": "stream",
          "text": [
            "\u001b[1G\u001b[0K⠙\u001b[1G\u001b[0K⠹\u001b[1G\u001b[0K⠸\u001b[1G\u001b[0K⠼\u001b[1G\u001b[0K⠴\u001b[1G\u001b[0K⠦\u001b[1G\u001b[0K⠧\u001b[1G\u001b[0K⠇\u001b[1G\u001b[0K⠏\u001b[1G\u001b[0K⠋\u001b[1G\u001b[0K⠙\u001b[1G\u001b[0K⠹\u001b[1G\u001b[0K⠸\u001b[1G\u001b[0K⠼\u001b[1G\u001b[0K⠴\u001b[1G\u001b[0K⠦\u001b[1G\u001b[0K⠧\u001b[1G\u001b[0K⠇\u001b[1G\u001b[0K\n",
            "added 22 packages in 2s\n",
            "\u001b[1G\u001b[0K⠇\u001b[1G\u001b[0K\n",
            "\u001b[1G\u001b[0K⠇\u001b[1G\u001b[0K3 packages are looking for funding\n",
            "\u001b[1G\u001b[0K⠇\u001b[1G\u001b[0K  run `npm fund` for details\n",
            "\u001b[1G\u001b[0K⠇\u001b[1G\u001b[0K"
          ]
        }
      ],
      "source": [
        "#Node.js 패키지 관리자인 npm(Node Package Manager)을 사용합니다.\n",
        "!npm install localtunnel\n"
      ]
    },
    {
      "cell_type": "code",
      "execution_count": 19,
      "metadata": {
        "id": "zWTcB3r_pe3v"
      },
      "outputs": [
        {
          "name": "stdout",
          "output_type": "stream",
          "text": [
            "\n",
            "      👋 \u001b[1mWelcome to Streamlit!\u001b[0m\n",
            "\n",
            "      If you'd like to receive helpful onboarding emails, news, offers, promotions,\n",
            "      and the occasional swag, please enter your email address below. Otherwise,\n",
            "      leave this field blank.\n",
            "\n",
            "      \u001b[34mEmail: \u001b[0m ^C\n"
          ]
        }
      ],
      "source": [
        "#Streamlit 앱을 백그라운드에서 실행하고, 실행 로그를 파일에 저장합니다.\n",
        "# !streamlit run app.py &>/content/logs.txt &\n",
        "!python -m streamlit run app.py\n"
      ]
    },
    {
      "cell_type": "code",
      "execution_count": 18,
      "metadata": {
        "colab": {
          "base_uri": "https://localhost:8080/"
        },
        "id": "TKKp7Hadpivw",
        "outputId": "5c56f80a-7e12-4fe2-9da5-04ee6abbcc7f"
      },
      "outputs": [
        {
          "name": "stdout",
          "output_type": "stream",
          "text": [
            "\u001b[1G\u001b[0K⠙\u001b[1G\u001b[0Kyour url is: https://three-ends-behave.loca.lt\n"
          ]
        },
        {
          "ename": "OSError",
          "evalue": "[Errno 5] Input/output error",
          "output_type": "error",
          "traceback": [
            "\u001b[31m---------------------------------------------------------------------------\u001b[39m",
            "\u001b[31mKeyboardInterrupt\u001b[39m                         Traceback (most recent call last)",
            "\u001b[36mFile \u001b[39m\u001b[32m~/Project/edu-genai-platform/.venv/lib/python3.13/site-packages/IPython/utils/_process_posix.py:130\u001b[39m, in \u001b[36mProcessHandler.system\u001b[39m\u001b[34m(self, cmd)\u001b[39m\n\u001b[32m    127\u001b[39m \u001b[38;5;28;01mwhile\u001b[39;00m \u001b[38;5;28;01mTrue\u001b[39;00m:\n\u001b[32m    128\u001b[39m     \u001b[38;5;66;03m# res is the index of the pattern that caused the match, so we\u001b[39;00m\n\u001b[32m    129\u001b[39m     \u001b[38;5;66;03m# know whether we've finished (if we matched EOF) or not\u001b[39;00m\n\u001b[32m--> \u001b[39m\u001b[32m130\u001b[39m     res_idx = \u001b[43mchild\u001b[49m\u001b[43m.\u001b[49m\u001b[43mexpect_list\u001b[49m\u001b[43m(\u001b[49m\u001b[43mpatterns\u001b[49m\u001b[43m,\u001b[49m\u001b[43m \u001b[49m\u001b[38;5;28;43mself\u001b[39;49m\u001b[43m.\u001b[49m\u001b[43mread_timeout\u001b[49m\u001b[43m)\u001b[49m\n\u001b[32m    131\u001b[39m     \u001b[38;5;28mprint\u001b[39m(child.before[out_size:].decode(enc, \u001b[33m'\u001b[39m\u001b[33mreplace\u001b[39m\u001b[33m'\u001b[39m), end=\u001b[33m'\u001b[39m\u001b[33m'\u001b[39m)\n",
            "\u001b[36mFile \u001b[39m\u001b[32m~/Project/edu-genai-platform/.venv/lib/python3.13/site-packages/pexpect/spawnbase.py:383\u001b[39m, in \u001b[36mSpawnBase.expect_list\u001b[39m\u001b[34m(self, pattern_list, timeout, searchwindowsize, async_, **kw)\u001b[39m\n\u001b[32m    382\u001b[39m \u001b[38;5;28;01melse\u001b[39;00m:\n\u001b[32m--> \u001b[39m\u001b[32m383\u001b[39m     \u001b[38;5;28;01mreturn\u001b[39;00m \u001b[43mexp\u001b[49m\u001b[43m.\u001b[49m\u001b[43mexpect_loop\u001b[49m\u001b[43m(\u001b[49m\u001b[43mtimeout\u001b[49m\u001b[43m)\u001b[49m\n",
            "\u001b[36mFile \u001b[39m\u001b[32m~/Project/edu-genai-platform/.venv/lib/python3.13/site-packages/pexpect/expect.py:169\u001b[39m, in \u001b[36mExpecter.expect_loop\u001b[39m\u001b[34m(self, timeout)\u001b[39m\n\u001b[32m    168\u001b[39m \u001b[38;5;66;03m# Still have time left, so read more data\u001b[39;00m\n\u001b[32m--> \u001b[39m\u001b[32m169\u001b[39m incoming = \u001b[43mspawn\u001b[49m\u001b[43m.\u001b[49m\u001b[43mread_nonblocking\u001b[49m\u001b[43m(\u001b[49m\u001b[43mspawn\u001b[49m\u001b[43m.\u001b[49m\u001b[43mmaxread\u001b[49m\u001b[43m,\u001b[49m\u001b[43m \u001b[49m\u001b[43mtimeout\u001b[49m\u001b[43m)\u001b[49m\n\u001b[32m    170\u001b[39m \u001b[38;5;28;01mif\u001b[39;00m \u001b[38;5;28mself\u001b[39m.spawn.delayafterread \u001b[38;5;129;01mis\u001b[39;00m \u001b[38;5;129;01mnot\u001b[39;00m \u001b[38;5;28;01mNone\u001b[39;00m:\n",
            "\u001b[36mFile \u001b[39m\u001b[32m~/Project/edu-genai-platform/.venv/lib/python3.13/site-packages/pexpect/pty_spawn.py:500\u001b[39m, in \u001b[36mspawn.read_nonblocking\u001b[39m\u001b[34m(self, size, timeout)\u001b[39m\n\u001b[32m    497\u001b[39m \u001b[38;5;66;03m# Because of the select(0) check above, we know that no data\u001b[39;00m\n\u001b[32m    498\u001b[39m \u001b[38;5;66;03m# is available right now. But if a non-zero timeout is given\u001b[39;00m\n\u001b[32m    499\u001b[39m \u001b[38;5;66;03m# (possibly timeout=None), we call select() with a timeout.\u001b[39;00m\n\u001b[32m--> \u001b[39m\u001b[32m500\u001b[39m \u001b[38;5;28;01mif\u001b[39;00m (timeout != \u001b[32m0\u001b[39m) \u001b[38;5;129;01mand\u001b[39;00m \u001b[43mselect\u001b[49m\u001b[43m(\u001b[49m\u001b[43mtimeout\u001b[49m\u001b[43m)\u001b[49m:\n\u001b[32m    501\u001b[39m     \u001b[38;5;28;01mreturn\u001b[39;00m \u001b[38;5;28msuper\u001b[39m(spawn, \u001b[38;5;28mself\u001b[39m).read_nonblocking(size)\n",
            "\u001b[36mFile \u001b[39m\u001b[32m~/Project/edu-genai-platform/.venv/lib/python3.13/site-packages/pexpect/pty_spawn.py:450\u001b[39m, in \u001b[36mspawn.read_nonblocking.<locals>.select\u001b[39m\u001b[34m(timeout)\u001b[39m\n\u001b[32m    449\u001b[39m \u001b[38;5;28;01mdef\u001b[39;00m\u001b[38;5;250m \u001b[39m\u001b[34mselect\u001b[39m(timeout):\n\u001b[32m--> \u001b[39m\u001b[32m450\u001b[39m     \u001b[38;5;28;01mreturn\u001b[39;00m \u001b[43mselect_ignore_interrupts\u001b[49m\u001b[43m(\u001b[49m\u001b[43m[\u001b[49m\u001b[38;5;28;43mself\u001b[39;49m\u001b[43m.\u001b[49m\u001b[43mchild_fd\u001b[49m\u001b[43m]\u001b[49m\u001b[43m,\u001b[49m\u001b[43m \u001b[49m\u001b[43m[\u001b[49m\u001b[43m]\u001b[49m\u001b[43m,\u001b[49m\u001b[43m \u001b[49m\u001b[43m[\u001b[49m\u001b[43m]\u001b[49m\u001b[43m,\u001b[49m\u001b[43m \u001b[49m\u001b[43mtimeout\u001b[49m\u001b[43m)\u001b[49m[\u001b[32m0\u001b[39m]\n",
            "\u001b[36mFile \u001b[39m\u001b[32m~/Project/edu-genai-platform/.venv/lib/python3.13/site-packages/pexpect/utils.py:143\u001b[39m, in \u001b[36mselect_ignore_interrupts\u001b[39m\u001b[34m(iwtd, owtd, ewtd, timeout)\u001b[39m\n\u001b[32m    142\u001b[39m \u001b[38;5;28;01mtry\u001b[39;00m:\n\u001b[32m--> \u001b[39m\u001b[32m143\u001b[39m     \u001b[38;5;28;01mreturn\u001b[39;00m \u001b[43mselect\u001b[49m\u001b[43m.\u001b[49m\u001b[43mselect\u001b[49m\u001b[43m(\u001b[49m\u001b[43miwtd\u001b[49m\u001b[43m,\u001b[49m\u001b[43m \u001b[49m\u001b[43mowtd\u001b[49m\u001b[43m,\u001b[49m\u001b[43m \u001b[49m\u001b[43mewtd\u001b[49m\u001b[43m,\u001b[49m\u001b[43m \u001b[49m\u001b[43mtimeout\u001b[49m\u001b[43m)\u001b[49m\n\u001b[32m    144\u001b[39m \u001b[38;5;28;01mexcept\u001b[39;00m \u001b[38;5;167;01mInterruptedError\u001b[39;00m:\n",
            "\u001b[31mKeyboardInterrupt\u001b[39m: ",
            "\nDuring handling of the above exception, another exception occurred:\n",
            "\u001b[31mOSError\u001b[39m                                   Traceback (most recent call last)",
            "\u001b[36mCell\u001b[39m\u001b[36m \u001b[39m\u001b[32mIn[18]\u001b[39m\u001b[32m, line 2\u001b[39m\n\u001b[32m      1\u001b[39m \u001b[38;5;66;03m#localtunnel을 사용하여 로컬 서버의 8501 포트를 외부에서 접근할 수 있도록 터널링합니다.\u001b[39;00m\n\u001b[32m----> \u001b[39m\u001b[32m2\u001b[39m \u001b[43mget_ipython\u001b[49m\u001b[43m(\u001b[49m\u001b[43m)\u001b[49m\u001b[43m.\u001b[49m\u001b[43msystem\u001b[49m\u001b[43m(\u001b[49m\u001b[33;43m'\u001b[39;49m\u001b[33;43mnpx localtunnel --port 8501\u001b[39;49m\u001b[33;43m'\u001b[39;49m\u001b[43m)\u001b[49m\n\u001b[32m      4\u001b[39m \u001b[38;5;66;03m# \"your url is:\" 우측에 표시되는 url 링크를 클릭한 뒤에, 위에서 복사한 숫자를 붙혀넣으면 app으로 이동합니다.\u001b[39;00m\n",
            "\u001b[36mFile \u001b[39m\u001b[32m~/Project/edu-genai-platform/.venv/lib/python3.13/site-packages/ipykernel/zmqshell.py:657\u001b[39m, in \u001b[36mZMQInteractiveShell.system_piped\u001b[39m\u001b[34m(self, cmd)\u001b[39m\n\u001b[32m    655\u001b[39m         \u001b[38;5;28mself\u001b[39m.user_ns[\u001b[33m\"\u001b[39m\u001b[33m_exit_code\u001b[39m\u001b[33m\"\u001b[39m] = system(cmd)\n\u001b[32m    656\u001b[39m \u001b[38;5;28;01melse\u001b[39;00m:\n\u001b[32m--> \u001b[39m\u001b[32m657\u001b[39m     \u001b[38;5;28mself\u001b[39m.user_ns[\u001b[33m\"\u001b[39m\u001b[33m_exit_code\u001b[39m\u001b[33m\"\u001b[39m] = \u001b[43msystem\u001b[49m\u001b[43m(\u001b[49m\u001b[38;5;28;43mself\u001b[39;49m\u001b[43m.\u001b[49m\u001b[43mvar_expand\u001b[49m\u001b[43m(\u001b[49m\u001b[43mcmd\u001b[49m\u001b[43m,\u001b[49m\u001b[43m \u001b[49m\u001b[43mdepth\u001b[49m\u001b[43m=\u001b[49m\u001b[32;43m1\u001b[39;49m\u001b[43m)\u001b[49m\u001b[43m)\u001b[49m\n",
            "\u001b[36mFile \u001b[39m\u001b[32m~/Project/edu-genai-platform/.venv/lib/python3.13/site-packages/IPython/utils/_process_posix.py:141\u001b[39m, in \u001b[36mProcessHandler.system\u001b[39m\u001b[34m(self, cmd)\u001b[39m\n\u001b[32m    136\u001b[39m         out_size = \u001b[38;5;28mlen\u001b[39m(child.before)\n\u001b[32m    137\u001b[39m \u001b[38;5;28;01mexcept\u001b[39;00m \u001b[38;5;167;01mKeyboardInterrupt\u001b[39;00m:\n\u001b[32m    138\u001b[39m     \u001b[38;5;66;03m# We need to send ^C to the process.  The ascii code for '^C' is 3\u001b[39;00m\n\u001b[32m    139\u001b[39m     \u001b[38;5;66;03m# (the character is known as ETX for 'End of Text', see\u001b[39;00m\n\u001b[32m    140\u001b[39m     \u001b[38;5;66;03m# curses.ascii.ETX).\u001b[39;00m\n\u001b[32m--> \u001b[39m\u001b[32m141\u001b[39m     \u001b[43mchild\u001b[49m\u001b[43m.\u001b[49m\u001b[43msendline\u001b[49m\u001b[43m(\u001b[49m\u001b[38;5;28;43mchr\u001b[39;49m\u001b[43m(\u001b[49m\u001b[32;43m3\u001b[39;49m\u001b[43m)\u001b[49m\u001b[43m)\u001b[49m\n\u001b[32m    142\u001b[39m     \u001b[38;5;66;03m# Read and print any more output the program might produce on its\u001b[39;00m\n\u001b[32m    143\u001b[39m     \u001b[38;5;66;03m# way out.\u001b[39;00m\n\u001b[32m    144\u001b[39m     \u001b[38;5;28;01mtry\u001b[39;00m:\n",
            "\u001b[36mFile \u001b[39m\u001b[32m~/Project/edu-genai-platform/.venv/lib/python3.13/site-packages/pexpect/pty_spawn.py:578\u001b[39m, in \u001b[36mspawn.sendline\u001b[39m\u001b[34m(self, s)\u001b[39m\n\u001b[32m    572\u001b[39m \u001b[38;5;250m\u001b[39m\u001b[33;03m'''Wraps send(), sending string ``s`` to child process, with\u001b[39;00m\n\u001b[32m    573\u001b[39m \u001b[33;03m``os.linesep`` automatically appended. Returns number of bytes\u001b[39;00m\n\u001b[32m    574\u001b[39m \u001b[33;03mwritten.  Only a limited number of bytes may be sent for each\u001b[39;00m\n\u001b[32m    575\u001b[39m \u001b[33;03mline in the default terminal mode, see docstring of :meth:`send`.\u001b[39;00m\n\u001b[32m    576\u001b[39m \u001b[33;03m'''\u001b[39;00m\n\u001b[32m    577\u001b[39m s = \u001b[38;5;28mself\u001b[39m._coerce_send_string(s)\n\u001b[32m--> \u001b[39m\u001b[32m578\u001b[39m \u001b[38;5;28;01mreturn\u001b[39;00m \u001b[38;5;28;43mself\u001b[39;49m\u001b[43m.\u001b[49m\u001b[43msend\u001b[49m\u001b[43m(\u001b[49m\u001b[43ms\u001b[49m\u001b[43m \u001b[49m\u001b[43m+\u001b[49m\u001b[43m \u001b[49m\u001b[38;5;28;43mself\u001b[39;49m\u001b[43m.\u001b[49m\u001b[43mlinesep\u001b[49m\u001b[43m)\u001b[49m\n",
            "\u001b[36mFile \u001b[39m\u001b[32m~/Project/edu-genai-platform/.venv/lib/python3.13/site-packages/pexpect/pty_spawn.py:569\u001b[39m, in \u001b[36mspawn.send\u001b[39m\u001b[34m(self, s)\u001b[39m\n\u001b[32m    566\u001b[39m \u001b[38;5;28mself\u001b[39m._log(s, \u001b[33m'\u001b[39m\u001b[33msend\u001b[39m\u001b[33m'\u001b[39m)\n\u001b[32m    568\u001b[39m b = \u001b[38;5;28mself\u001b[39m._encoder.encode(s, final=\u001b[38;5;28;01mFalse\u001b[39;00m)\n\u001b[32m--> \u001b[39m\u001b[32m569\u001b[39m \u001b[38;5;28;01mreturn\u001b[39;00m \u001b[43mos\u001b[49m\u001b[43m.\u001b[49m\u001b[43mwrite\u001b[49m\u001b[43m(\u001b[49m\u001b[38;5;28;43mself\u001b[39;49m\u001b[43m.\u001b[49m\u001b[43mchild_fd\u001b[49m\u001b[43m,\u001b[49m\u001b[43m \u001b[49m\u001b[43mb\u001b[49m\u001b[43m)\u001b[49m\n",
            "\u001b[31mOSError\u001b[39m: [Errno 5] Input/output error"
          ]
        }
      ],
      "source": [
        "#localtunnel을 사용하여 로컬 서버의 8501 포트를 외부에서 접근할 수 있도록 터널링합니다.\n",
        "!npx localtunnel --port 8501\n",
        "\n",
        "# \"your url is:\" 우측에 표시되는 url 링크를 클릭한 뒤에, 위에서 복사한 숫자를 붙혀넣으면 app으로 이동합니다.\n"
      ]
    }
  ],
  "metadata": {
    "colab": {
      "provenance": []
    },
    "kernelspec": {
      "display_name": ".venv",
      "language": "python",
      "name": "python3"
    },
    "language_info": {
      "codemirror_mode": {
        "name": "ipython",
        "version": 3
      },
      "file_extension": ".py",
      "mimetype": "text/x-python",
      "name": "python",
      "nbconvert_exporter": "python",
      "pygments_lexer": "ipython3",
      "version": "3.13.2"
    }
  },
  "nbformat": 4,
  "nbformat_minor": 0
}
